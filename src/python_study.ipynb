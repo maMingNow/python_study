{
 "cells": [
  {
   "cell_type": "code",
   "execution_count": 1,
   "metadata": {},
   "outputs": [],
   "source": [
    "### 第2章 python基础知识学习\n",
    "### 支持的类型、基础运算、for 、while、if、函数、模块\n",
    "### 字符串操作、列表list、字典map、元组"
   ]
  },
  {
   "cell_type": "code",
   "execution_count": 2,
   "metadata": {},
   "outputs": [
    {
     "name": "stdout",
     "output_type": "stream",
     "text": [
      "<type 'int'>\n",
      "<type 'float'>\n",
      "<type 'str'>\n"
     ]
    }
   ],
   "source": [
    "### 数据类型\n",
    "print type(1)\n",
    "print type(1.0)\n",
    "print type(\"hello world\")"
   ]
  },
  {
   "cell_type": "code",
   "execution_count": 3,
   "metadata": {},
   "outputs": [
    {
     "name": "stdout",
     "output_type": "stream",
     "text": [
      "我会的语言 java , python,会python的人可能有2000.00万,百分号98.40%\n"
     ]
    }
   ],
   "source": [
    "### 输出格式化\n",
    "## 注意 浮点数转化--:.2f\n",
    "print \"我会的语言 {} , {},会python的人可能有{:.2f}万,百分号{:.2%}\".format(\"java\",\"python\",2000,0.9839628) ## 注意会四舍五入\n"
   ]
  },
  {
   "cell_type": "code",
   "execution_count": 4,
   "metadata": {},
   "outputs": [
    {
     "name": "stdout",
     "output_type": "stream",
     "text": [
      "11\n",
      "256\n",
      "1\n",
      "1\n",
      "1.1\n",
      "4\n"
     ]
    }
   ],
   "source": [
    "### 运算符 + - * / \n",
    "print 31 % 20 ### 11 余数\n",
    "print 2 ** 8  ### 256,2的8次方\n",
    "print 22 // 20 ### 1,只要正数部分\n",
    "print 22 / 20 ##1 ,也是只有正数部分\n",
    "print 1.0 * 22 / 20 ##1.1 ,包含小数部分\n",
    "\n",
    "week = 3\n",
    "week += 1\n",
    "print week  ### 使用 += 运算方式\n",
    "### 逻辑运算 and or not\n",
    "### 比较运算 >=   <=   !=   <>   =="
   ]
  },
  {
   "cell_type": "code",
   "execution_count": 5,
   "metadata": {},
   "outputs": [
    {
     "name": "stdout",
     "output_type": "stream",
     "text": [
      "0\n",
      "1\n",
      "2\n",
      "3\n",
      "4\n",
      "3\n",
      "4\n",
      "5\n",
      "6\n",
      "7\n"
     ]
    }
   ],
   "source": [
    "### for 与 while\n",
    "list = range(0,5) ### [1, 2, 3, 4]\n",
    "for i in list :\n",
    "    print i\n",
    "    \n",
    "### while\n",
    "week = 3\n",
    "while week <=7 :\n",
    "    print week\n",
    "    week += 1"
   ]
  },
  {
   "cell_type": "code",
   "execution_count": 6,
   "metadata": {},
   "outputs": [
    {
     "name": "stdout",
     "output_type": "stream",
     "text": [
      "else ==> 100\n"
     ]
    }
   ],
   "source": [
    "### if\n",
    "day = 100\n",
    "if day == 1:\n",
    "    print \"if ==> {}\".format(day)\n",
    "elif day == 10:\n",
    "    print \"elif ==> {}\".format(day)\n",
    "else:\n",
    "    print \"else ==> {}\".format(day)"
   ]
  },
  {
   "cell_type": "code",
   "execution_count": 7,
   "metadata": {},
   "outputs": [
    {
     "name": "stdout",
     "output_type": "stream",
     "text": [
      "计算结果是:10\n"
     ]
    },
    {
     "data": {
      "text/plain": [
       "10"
      ]
     },
     "execution_count": 7,
     "metadata": {},
     "output_type": "execute_result"
    }
   ],
   "source": [
    "### 函数---def 函数名、参数、代码块、return\n",
    "### 注意:参数不需要定义类型,return可以不写\n",
    "\n",
    "### 声明函数\n",
    "def add(x,y):\n",
    "    print \"计算结果是:{}\".format(x+y)\n",
    "    return x + y\n",
    "add(4,6) ### 计算结果是:10\n",
    "### 匿名函数 lambda arg1,arg2,arg3:表达式  ===>如果它超出一行简单代码,你最好使用普通的函数定义\n",
    "f = lambda x,y:x+y \n",
    "type(f) ### function\n",
    "f(4,6)"
   ]
  },
  {
   "cell_type": "code",
   "execution_count": 8,
   "metadata": {},
   "outputs": [
    {
     "name": "stdout",
     "output_type": "stream",
     "text": [
      "[5, 6, 7, 8, 9]\n",
      "-------------\n",
      "[18, 9, 24, 12, 27]\n",
      "139\n",
      "[14, 46, 28, 54, 44, 58, 26, 34, 64]\n",
      "[5, 7, 9, 11, 13]\n"
     ]
    }
   ],
   "source": [
    "### 高级函数\n",
    "### 生成list的函数\n",
    "list1 = range(0,5) ### [0, 1, 2, 3, 4]\n",
    "list2 = range(5,10) ### [5, 6, 7, 8, 9]\n",
    "print list2\n",
    "[i ** 2 for i in list1] ### [0, 1, 4, 9, 16]  语法是for循环每一个列表的元素,对i进行操作,返回一个列表,因此外围被[]包裹\n",
    "### 二重循环\n",
    "[i + j for i in list1 for j in list2]\n",
    "print \"-------------\"\n",
    "### map filter reduce 函数---表达式 对 list集合中每一个元素进行处理\n",
    "foo = [2, 18, 9, 22, 17, 24, 8, 12, 27]\n",
    "print filter(lambda x: x % 3 == 0, foo) ### [18, 9, 24, 12, 27]\n",
    "print reduce(lambda x, y: x + y, foo) ### 139\n",
    "print map(lambda x: x * 2 + 10, foo) ### [14, 46, 28, 54, 44, 58, 26, 34, 64]\n",
    "print map(lambda x,y:x+y,list1,list2) ### [5, 7, 9, 11, 13]"
   ]
  },
  {
   "cell_type": "code",
   "execution_count": 9,
   "metadata": {},
   "outputs": [],
   "source": [
    "### 模块\n",
    "import pandas as pd ### 直接导入模块名\n",
    "import numpy as np\n",
    "from datetime import datetime, date, time, timedelta ### 从一个大模块中,导入一个子模块"
   ]
  },
  {
   "cell_type": "code",
   "execution_count": 10,
   "metadata": {},
   "outputs": [
    {
     "name": "stdout",
     "output_type": "stream",
     "text": [
      "hello world\n",
      "hello hello hello \n",
      "18\n"
     ]
    }
   ],
   "source": [
    "### 字符串\n",
    "### 字符串连接与复制\n",
    "print \"hello \" + \"world\"\n",
    "print \"hello \" * 3\n",
    "print len(\"hello \" * 3)"
   ]
  },
  {
   "cell_type": "code",
   "execution_count": 11,
   "metadata": {},
   "outputs": [
    {
     "name": "stdout",
     "output_type": "stream",
     "text": [
      "True\n",
      "False\n",
      "6\n",
      "-1\n"
     ]
    }
   ],
   "source": [
    "### boolean类型的包含   获取位置的find\n",
    "print \"hello \" in \"hello world\" ## True\n",
    "print \"hello \" not in \"hello world\" ### False\n",
    "print \"hello world\".find(\"world\") ### 6,从0开始计数\n",
    "print \"hello world\".find(\"world1\") ### 不存在则返回-1"
   ]
  },
  {
   "cell_type": "code",
   "execution_count": 12,
   "metadata": {},
   "outputs": [
    {
     "name": "stdout",
     "output_type": "stream",
     "text": [
      "e\n",
      "el\n",
      "hel\n",
      "lo\n",
      "o\n"
     ]
    }
   ],
   "source": [
    "### 字符串的分片\n",
    "print \"hello\"[1] ### e,字符串就相当于字符数组\n",
    "print \"hello\"[1:3] ###  el\n",
    "print \"hello\"[:3] ###  hel\n",
    "print \"hello\"[3:] ###  lo\n",
    "print \"hello\"[-1] ###  o ### 从后面开始计数查找"
   ]
  },
  {
   "cell_type": "code",
   "execution_count": 13,
   "metadata": {},
   "outputs": [
    {
     "name": "stdout",
     "output_type": "stream",
     "text": [
      "world\n",
      "hello world !!!\n",
      " hello world \n"
     ]
    }
   ],
   "source": [
    "### 字符串拆分 与 移除\n",
    "print \"hello world !!!\".split(\" \")[1]  ### world\n",
    "print \" hello world !!! \".strip()  ## 默认移除前后空格---hello world !!!\n",
    "print \"!!! hello world !!!\".strip(\"!\")  ## 移除前后!--- hello world "
   ]
  },
  {
   "cell_type": "code",
   "execution_count": 14,
   "metadata": {},
   "outputs": [
    {
     "name": "stdout",
     "output_type": "stream",
     "text": [
      "[]\n",
      "[1, 2, 3, 'a', 'b']\n",
      "[1, 2, 3, 'a', 'b', 1, 2, 3, 'a', 'b']\n"
     ]
    }
   ],
   "source": [
    "### 列表list,可以理解成是一个数组,存储不同的类型\n",
    "print [] ### 空list\n",
    "print [1,2,3,'a','b'] \n",
    "print [1,2,3,'a','b'] * 2 ### [1, 2, 3, 'a', 'b', 1, 2, 3, 'a', 'b']"
   ]
  },
  {
   "cell_type": "code",
   "execution_count": 15,
   "metadata": {},
   "outputs": [
    {
     "name": "stdout",
     "output_type": "stream",
     "text": [
      "[1, 2, 3, 'a', 'b']\n",
      "[1, 2, 3, 'a', 'b']\n",
      "['a', 'b']\n"
     ]
    }
   ],
   "source": [
    "### 列表的合并\n",
    "print [1,2,3] + [\"a\",\"b\"] ## [1, 2, 3, 'a', 'b'] 产生新的列表\n",
    "int_list = [1,2,3]\n",
    "str_list = [\"a\",\"b\"]\n",
    "int_list.extend(str_list) ###对原有的int_list列表进行追加\n",
    "print int_list ### 更改原有列表内容 [1, 2, 3, 'a', 'b']\n",
    "print str_list"
   ]
  },
  {
   "cell_type": "code",
   "execution_count": 16,
   "metadata": {},
   "outputs": [
    {
     "name": "stdout",
     "output_type": "stream",
     "text": [
      "[1, 2, 3, 4]\n",
      "[1, 2, 4, 3, 4]\n"
     ]
    }
   ],
   "source": [
    "### 追加操作\n",
    "int_list = [1,2,3]\n",
    "int_list.append(4) ### 在尾部追加  [1, 2, 3, 4]\n",
    "print int_list\n",
    "int_list.insert(2,4) ### 在index位置追加  [1, 2, 4, 3, 4] ,注意 index是从0\n",
    "print int_list"
   ]
  },
  {
   "cell_type": "code",
   "execution_count": 17,
   "metadata": {},
   "outputs": [
    {
     "name": "stdout",
     "output_type": "stream",
     "text": [
      "2\n",
      "4\n",
      "[2, 4]\n",
      "[3, 4]\n",
      "[1, 2, 4, 3, 4]\n",
      "[1, 2, 3, 4, 4]\n"
     ]
    }
   ],
   "source": [
    "int_list = [1, 2, 4, 3, 4]\n",
    "### 数据处理\n",
    "### 计算某个值在集合中出现的次数\n",
    "int_list.count(4) ### 4出现的次数---2\n",
    "int_list.count(1) ### 1\n",
    "int_list.count(11) ### 0\n",
    "### 计算某个值在集合中出现的位置\n",
    "print int_list.index(4) ### 2,表示第一个4出现的位置,从0开始计数\n",
    "### 输出指定下标的的value\n",
    "print int_list[2] ### 4 \n",
    "print int_list[1:3] ### [2, 4]\n",
    "print int_list[3:] ### [3, 4]\n",
    "### 集合元素的删除\n",
    "## print int_list.pop(2) ### 删除某个下标的值\n",
    "## int_list.remove(4) ### 删除某个值,注意:只是会删除第一次出现4的值,剩下的4还是会保留的\n",
    "print int_list  ### [1, 2, 3, 4]\n",
    "### 排序\n",
    "int_list.sort(reverse=False) ## [1, 2, 3, 4, 4]  默认升序\n",
    "## int_list.sort(reverse = True) ## [4, 4, 3, 2, 1]\n",
    "print int_list ## "
   ]
  },
  {
   "cell_type": "code",
   "execution_count": 18,
   "metadata": {},
   "outputs": [
    {
     "name": "stdout",
     "output_type": "stream",
     "text": [
      "{'class2': 18, 'class1': 14}\n",
      "{'class2': 18, 'class1': 14}\n",
      "['class2', 'class1']\n",
      "[18, 14]\n",
      "[('class2', 18), ('class1', 14)]\n"
     ]
    }
   ],
   "source": [
    "### 字典 map---{key:value,key:value}\n",
    "### 创建字典\n",
    "dict_test = {}\n",
    "dict_test[\"class1\"] = 14\n",
    "dict_test[\"class2\"] = 18\n",
    "print dict_test  ### {'class2': 18, 'class1': 14}\n",
    "### 以列表的形式存储在元组里,然后进行转换\n",
    "source = ([\"class1\",14],[\"class2\",18])\n",
    "print dict(source)\n",
    "## 输出\n",
    "print dict_test.keys() ### ['class2', 'class1']\n",
    "print dict_test.values() ### [18, 14]\n",
    "print dict_test.items() ### [('class2', 18), ('class1', 14)]"
   ]
  },
  {
   "cell_type": "code",
   "execution_count": 19,
   "metadata": {},
   "outputs": [
    {
     "name": "stdout",
     "output_type": "stream",
     "text": [
      "(1, 2, 3)\n",
      "3\n",
      "3\n",
      "(2, 3)\n"
     ]
    }
   ],
   "source": [
    "### 元组--和list相似,区别是用()包围,以及集合定义好后不能更改\n",
    "tuple_test = (1,2,3)\n",
    "print tuple_test ### 定义元组\n",
    "print len(tuple_test) ### 获取元组元素长度 3\n",
    "print tuple_test[2] ## 3\n",
    "print tuple_test[1:] ## (2, 3)"
   ]
  },
  {
   "cell_type": "code",
   "execution_count": 23,
   "metadata": {},
   "outputs": [
    {
     "name": "stdout",
     "output_type": "stream",
     "text": [
      "[1, 2, 3]\n",
      "(1, 2, 3)\n"
     ]
    }
   ],
   "source": [
    "### 元组与列表的相互转换\n",
    "tuple_test_list = list(tuple_test) ### [1, 2, 3]\n",
    "tuple_test_tuple = tuple(tuple_test_list) ### (1, 2, 3)\n",
    "print tuple_test_list \n",
    "print tuple_test_tuple "
   ]
  },
  {
   "cell_type": "code",
   "execution_count": 24,
   "metadata": {},
   "outputs": [
    {
     "name": "stdout",
     "output_type": "stream",
     "text": [
      "(1, 1)\n",
      "(2, 2)\n",
      "(3, 3)\n"
     ]
    }
   ],
   "source": [
    "### zip 用于可迭代的对象,比如元组、列表--输出元组\n",
    "### 一般配合for使用\n",
    "for i in zip(tuple_test_list,tuple_test_tuple):\n",
    "    print (i)\n"
   ]
  },
  {
   "cell_type": "code",
   "execution_count": null,
   "metadata": {},
   "outputs": [],
   "source": []
  },
  {
   "cell_type": "code",
   "execution_count": null,
   "metadata": {},
   "outputs": [],
   "source": []
  }
 ],
 "metadata": {
  "kernelspec": {
   "display_name": "Python 2",
   "language": "python",
   "name": "python2"
  },
  "language_info": {
   "codemirror_mode": {
    "name": "ipython",
    "version": 2
   },
   "file_extension": ".py",
   "mimetype": "text/x-python",
   "name": "python",
   "nbconvert_exporter": "python",
   "pygments_lexer": "ipython2",
   "version": "2.7.15"
  }
 },
 "nbformat": 4,
 "nbformat_minor": 2
}
