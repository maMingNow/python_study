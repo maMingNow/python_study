{
 "cells": [
  {
   "cell_type": "code",
   "execution_count": 2,
   "metadata": {},
   "outputs": [],
   "source": [
    "### 数据可视化\n",
    "\n",
    "### 画板、创建坐标系\n",
    "\n",
    "### 图表需要的是array数据  x = np.arange(6)\n",
    "\n",
    "### 折线图\n",
    "### 柱状图\n",
    "### 箱型图\n",
    "\n",
    "### 从数据样本中获取数据,绘制图表\n",
    "### 从df中处理数据,生成折线图\n",
    "\n",
    "### 6.2 未讲解"
   ]
  },
  {
   "cell_type": "code",
   "execution_count": 3,
   "metadata": {},
   "outputs": [],
   "source": [
    "import pandas as pd\n",
    "import numpy as np\n",
    "import matplotlib.pyplot as plt\n",
    "from datetime import datetime, date, time, timedelta\n",
    "from pandas.tseries.offsets import Day,Hour,Minute\n",
    "import sys\n",
    "stdo = sys.stdout\n",
    "reload(sys)\n",
    "sys.setdefaultencoding('utf-8')\n",
    "sys.stdout= stdo\n",
    "\n",
    "plt.rcParams[\"font.sans-serif\"] = \"SimHei\" ### 解决中文乱码问题\n",
    "plt.rcParams[\"axes.unicode_minus\"] = False ### 解决负号无法正常显示问题\n",
    "\n",
    "%matplotlib inline ### 让图表在jupyter中展示出来\n",
    "%config inlinebackend.figure_format='svg' ### 生成的图片变成矢量图,防止图片不清晰"
   ]
  },
  {
   "cell_type": "code",
   "execution_count": null,
   "metadata": {},
   "outputs": [],
   "source": [
    "### 图表需要的是array数据\n",
    "x = np.arange(20)\n",
    "y = np.arange(20)"
   ]
  },
  {
   "cell_type": "code",
   "execution_count": null,
   "metadata": {},
   "outputs": [],
   "source": [
    "### 基本元素:画布、坐标系、坐标轴、坐标轴标题、图表标题、数值标签、数据表、网络线、图例、误差线\n",
    "flg = plt.figure(figsize = (8,6))  ### 创建画布--用于控制width height 宽和高 ,1个单位=72,所以 576x432\n",
    "### ax1 = flg.add_subplot(1,1,1) ### 建立坐标系\n",
    "\n",
    "ax1 = flg.add_subplot(2,2,1) ### 建立坐标系 左上角\n",
    "ax2 = flg.add_subplot(2,2,2) ### 建立坐标系 右上角\n",
    "ax3 = flg.add_subplot(2,2,3) ### 建立坐标系 左下角\n",
    "ax4 = flg.add_subplot(2,2,4) ### 建立坐标系 右下角\n"
   ]
  },
  {
   "cell_type": "code",
   "execution_count": null,
   "metadata": {},
   "outputs": [],
   "source": [
    "### 另外一种方式\n",
    "### 基本元素:画布、坐标系、坐标轴、坐标轴标题、图表标题、数值标签、数据表、网络线、图例、误差线\n",
    "flg,axes = plt.subplots(2,2,figsize = (8,6))  ### 创建画布--用于控制width height 宽和高 ,1个单位=72,所以 576x432\n",
    "### ax1 = flg.add_subplot(1,1,1) ### 建立坐标系\n",
    "axes[0,0].plot(x,y)\n",
    "axes[1,1].bar(x,y)"
   ]
  },
  {
   "cell_type": "code",
   "execution_count": null,
   "metadata": {},
   "outputs": [],
   "source": [
    "### 不需要创建画布方式\n",
    "fig = plt.figure(figsize = (8,6))\n",
    "plt.subplot2grid((2,2),(0,0)) ### 不需要创建画布,直接建立坐标系\n",
    "plt.plot(x,y,label = \"zhexian\")\n",
    "### 设置坐标轴标题\n",
    "plt.xlabel(\"mon\",labelpad = 10,color='red') ### 设置标题距离坐标轴距离\n",
    "plt.ylabel(\"count\",labelpad = 10,color='red')\n",
    "### 设置坐标轴范围\n",
    "plt.xlim(0,20) \n",
    "plt.ylim(0,20)\n",
    "### 添加网络线\n",
    "### plt.grid(b = \"true\")\n",
    "plt.grid(b = \"true\",axis = \"x\") ##只打开x轴的网络线\n",
    "### 设置图例 以及 设置显示位置  一行显示多少个图例\n",
    "plt.legend(loc = 3,ncol = 2)  ### 显示 zhexian\n",
    "### 设置title  loc位置left right center\n",
    "plt.title(s = \"title\",loc = \"center\")\n",
    "###设置数据标签 在x,y点显示y的值,显示位置是ha水平方向center/left/right,va垂直方向center/top/bottom,fontsize字体大小\n",
    "for a,b in zip(x,y):\n",
    "    plt.text(a,b,b,ha = \"center\",va = \"center\",fontsize = 10)\n",
    "\n",
    "\n",
    "### 画柱状图\n",
    "plt.subplot2grid((2,2),(1,1)) ### 不需要创建画布,直接建立坐标系\n",
    "plt.bar(x,y)\n"
   ]
  },
  {
   "cell_type": "code",
   "execution_count": null,
   "metadata": {},
   "outputs": [],
   "source": [
    "### 折线图\n",
    "### 不需要创建画布方式\n",
    "fig = plt.figure(figsize = (8,6))\n",
    "plt.subplot2grid((1,1),(0,0)) ### 不需要创建画布,直接建立坐标系\n",
    "plt.plot(x,y,label = \"折线图\")\n",
    "###设置数据标签 在x,y点显示y的值,显示位置是ha水平方向center/left/right,va垂直方向center/top/bottom,fontsize字体大小\n",
    "for a,b in zip(x,y):\n",
    "    plt.text(a,b,b,ha = \"center\",va = \"center\",fontsize = 10)"
   ]
  },
  {
   "cell_type": "code",
   "execution_count": 4,
   "metadata": {},
   "outputs": [
    {
     "data": {
      "image/png": "[encoded data removed]",
      "text/plain": [
       "<Figure size 432x288 with 1 Axes>"
      ]
     },
     "metadata": {
      "needs_background": "light"
     },
     "output_type": "display_data"
    }
   ],
   "source": [
    "### 箱线图\n",
    "np.random.seed(2)  #设置随机种子\n",
    "df = pd.DataFrame(np.random.rand(5,4),\n",
    "columns=['A', 'B', 'C', 'D'])#先生成0-1之间的5*4维度数据，再装入4列DataFrame中,每一列有5行数据,因此每一列都可以箱型图\n",
    "df.boxplot() #也可用plot.box()\n",
    "plt.show()"
   ]
  },
  {
   "cell_type": "code",
   "execution_count": 5,
   "metadata": {},
   "outputs": [
    {
     "name": "stdout",
     "output_type": "stream",
     "text": [
      "[80 59 84 90 32 16 13 32 27 83 35  2 93 17 23 82 32 12 94 71 87 62 54 17\n",
      " 46 13 28 34 64 41 87 63 52 67 51 61 21 78 80  4 21  6 23  4 66 12 11 23\n",
      " 87 58 65 71 55 90 53]\n"
     ]
    },
    {
     "data": {
      "image/png": "[encoded data removed]",
      "text/plain": [
       "<Figure size 360x432 with 1 Axes>"
      ]
     },
     "metadata": {
      "needs_background": "light"
     },
     "output_type": "display_data"
    },
    {
     "name": "stdout",
     "output_type": "stream",
     "text": [
      "-62.5\n",
      "22.0\n",
      "52.0\n",
      "71.0\n",
      "155.5\n"
     ]
    }
   ],
   "source": [
    "### 箱线图\n",
    "np.random.seed(800)   #设置随机种子\n",
    "data=np.random.randint(1,100,55) ### 55个1-100的随机整数的箱线图\n",
    "print data\n",
    "plt.figure(figsize=(5,6))    #设置图形尺寸大小\n",
    "plt.boxplot(data,\n",
    "            notch=False,  #中位线处不设置凹陷\n",
    "            widths=0.2,   #设置箱体宽度\n",
    "            medianprops={'color':'red'},  #中位线设置为红色\n",
    "            boxprops=dict(color=\"blue\"),  #箱体边框设置为蓝色\n",
    "            labels=\"A\",  #设置标签\n",
    "            whiskerprops = {'color': \"black\"}, #设置须的颜色，黑色\n",
    "            capprops = {'color': \"green\"},      #设置箱线图顶端和末端横线的属性，颜色为绿色\n",
    "            flierprops={'color':'purple','markeredgecolor':\"purple\"} #异常值属性，这里没有异常值，所以没表现出来\n",
    "           )\n",
    "plt.title(\"xiangxiantu\",fontsize=\"xx-large\",color=\"#DE0052\")\n",
    "plt.show()\n",
    "\n",
    "\n",
    "a = 1.5 * np.percentile(data,75) - np.percentile(data,25)\n",
    "print np.percentile(data,25) - a # 下限\n",
    "print np.percentile(data,25) # 25%分位数\n",
    "print np.median(data)# 中位数\n",
    "print np.percentile(data,75)  # 75%分位数\n",
    "print np.percentile(data,75) + a ## 上限"
   ]
  },
  {
   "cell_type": "code",
   "execution_count": 6,
   "metadata": {},
   "outputs": [
    {
     "data": {
      "image/png": "[encoded data removed]",
      "text/plain": [
       "<Figure size 576x432 with 1 Axes>"
      ]
     },
     "metadata": {
      "needs_background": "light"
     },
     "output_type": "display_data"
    }
   ],
   "source": [
    "### 从数据样本中获取数据,绘制图表\n",
    "ages = [20,22,25,27,21,23,37,31,61,45,32]\n",
    "bins = [18,25,35,60,100]\n",
    "cats = pd.cut(ages,bins)\n",
    "\n",
    "x1 = pd.value_counts(cats.codes).index\n",
    "y1 = pd.value_counts(cats.codes).values\n",
    "\n",
    "fig = plt.figure(figsize = (8,6))\n",
    "plt.subplot2grid((1,1),(0,0)) ### 不需要创建画布,直接建立坐标系\n",
    "plt.plot(x1,y1,label = \"折线图\")\n",
    "###设置数据标签 在x,y点显示y的值,显示位置是ha水平方向center/left/right,va垂直方向center/top/bottom,fontsize字体大小\n",
    "for a,b in zip(x1,y1):\n",
    "    plt.text(a,b,b,ha = \"center\",va = \"center\",fontsize = 10)"
   ]
  },
  {
   "cell_type": "code",
   "execution_count": 7,
   "metadata": {},
   "outputs": [
    {
     "data": {
      "text/plain": [
       "[<matplotlib.lines.Line2D at 0x11a49df10>]"
      ]
     },
     "execution_count": 7,
     "metadata": {},
     "output_type": "execute_result"
    },
    {
     "data": {
      "image/png": "[encoded data removed]",
      "text/plain": [
       "<Figure size 432x288 with 1 Axes>"
      ]
     },
     "metadata": {
      "needs_background": "light"
     },
     "output_type": "display_data"
    }
   ],
   "source": [
    "### 从df中处理数据,生成折线图\n",
    "df = pd.read_csv(\"/Users/maming/Downloads/test/dataframe_5_plot.txt\",sep='\\t',nrows = 100,encoding = \"utf-8\",engine=\"python\")\n",
    "##plt.plot(df[\"id\"],df[\"value\"])\n",
    "plt.plot(range(0, 100),df[\"value\"]) ### 纵坐标是100个值,因此生成横坐标0-99"
   ]
  },
  {
   "cell_type": "code",
   "execution_count": 8,
   "metadata": {},
   "outputs": [
    {
     "data": {
      "text/plain": [
       "[<matplotlib.lines.Line2D at 0x11a4e9a50>]"
      ]
     },
     "execution_count": 8,
     "metadata": {},
     "output_type": "execute_result"
    },
    {
     "data": {
      "image/png": "[encoded data removed]",
      "text/plain": [
       "<Figure size 432x288 with 1 Axes>"
      ]
     },
     "metadata": {
      "needs_background": "light"
     },
     "output_type": "display_data"
    }
   ],
   "source": [
    "### 从df中处理数据,生成折线图\n",
    "type (df.groupby(\"id\").aggregate([\"max\"])) ### DataFrame\n",
    "df1 = df.groupby(\"id\").aggregate([\"max\"])\n",
    "plt.plot(df1.index,df1[\"value\"][\"max\"]) ### 纵坐标是100个值,因此生成横坐标0-99"
   ]
  },
  {
   "cell_type": "code",
   "execution_count": null,
   "metadata": {},
   "outputs": [],
   "source": []
  },
  {
   "cell_type": "code",
   "execution_count": null,
   "metadata": {},
   "outputs": [],
   "source": []
  },
  {
   "cell_type": "code",
   "execution_count": null,
   "metadata": {},
   "outputs": [],
   "source": []
  }
 ],
 "metadata": {
  "kernelspec": {
   "display_name": "Python 2",
   "language": "python",
   "name": "python2"
  },
  "language_info": {
   "codemirror_mode": {
    "name": "ipython",
    "version": 2
   },
   "file_extension": ".py",
   "mimetype": "text/x-python",
   "name": "python",
   "nbconvert_exporter": "python",
   "pygments_lexer": "ipython2",
   "version": "2.7.15"
  }
 },
 "nbformat": 4,
 "nbformat_minor": 2
}
