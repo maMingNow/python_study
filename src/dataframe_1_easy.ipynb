{
 "cells": [
  {
   "cell_type": "code",
   "execution_count": 1,
   "metadata": {},
   "outputs": [],
   "source": [
    "### 已经学习 3 8 9  ,\n",
    "### 4 12 数据导入与导出 章\n",
    "### 第九章 时间索引 没有学习"
   ]
  },
  {
   "cell_type": "code",
   "execution_count": 2,
   "metadata": {},
   "outputs": [],
   "source": [
    "import pandas as pd\n",
    "import numpy as np\n",
    "from datetime import datetime, date, time, timedelta\n",
    "from pandas.tseries.offsets import Day,Hour,Minute"
   ]
  },
  {
   "cell_type": "code",
   "execution_count": 3,
   "metadata": {},
   "outputs": [],
   "source": [
    "def load_data(filepath):\n",
    "    df = pd.read_csv(filepath,sep=',',nrows = 3,encoding = \"utf-8\",engine=\"python\")\n",
    "    return df"
   ]
  },
  {
   "cell_type": "code",
   "execution_count": 4,
   "metadata": {},
   "outputs": [
    {
     "name": "stdout",
     "output_type": "stream",
     "text": [
      "<class 'pandas.core.frame.DataFrame'>\n",
      "RangeIndex: 3 entries, 0 to 2\n",
      "Data columns (total 7 columns):\n",
      "c1    3 non-null int64\n",
      "c2    3 non-null int64\n",
      "c3    3 non-null int64\n",
      "c4    3 non-null object\n",
      "c5    3 non-null object\n",
      "c6    3 non-null object\n",
      "c7    3 non-null int64\n",
      "dtypes: int64(4), object(3)\n",
      "memory usage: 240.0+ bytes\n",
      "<class 'pandas.core.frame.DataFrame'>\n",
      "RangeIndex: 3 entries, 0 to 2\n",
      "Data columns (total 7 columns):\n",
      "c1    3 non-null int64\n",
      "c2    3 non-null int64\n",
      "c3    3 non-null int64\n",
      "c4    3 non-null datetime64[ns]\n",
      "c5    3 non-null object\n",
      "c6    3 non-null datetime64[ns]\n",
      "c7    3 non-null datetime64[ns]\n",
      "dtypes: datetime64[ns](3), int64(3), object(1)\n",
      "memory usage: 240.0+ bytes\n"
     ]
    },
    {
     "data": {
      "text/html": [
       "<div>\n",
       "<style scoped>\n",
       "    .dataframe tbody tr th:only-of-type {\n",
       "        vertical-align: middle;\n",
       "    }\n",
       "\n",
       "    .dataframe tbody tr th {\n",
       "        vertical-align: top;\n",
       "    }\n",
       "\n",
       "    .dataframe thead th {\n",
       "        text-align: right;\n",
       "    }\n",
       "</style>\n",
       "<table border=\"1\" class=\"dataframe\">\n",
       "  <thead>\n",
       "    <tr style=\"text-align: right;\">\n",
       "      <th></th>\n",
       "      <th>c1</th>\n",
       "      <th>c2</th>\n",
       "      <th>c3</th>\n",
       "      <th>c4</th>\n",
       "      <th>c5</th>\n",
       "      <th>c6</th>\n",
       "      <th>c7</th>\n",
       "    </tr>\n",
       "  </thead>\n",
       "  <tbody>\n",
       "    <tr>\n",
       "      <th>0</th>\n",
       "      <td>0</td>\n",
       "      <td>10</td>\n",
       "      <td>20</td>\n",
       "      <td>2019-09-04 22:34:21</td>\n",
       "      <td>2019-09-03</td>\n",
       "      <td>2019-09-03 22:34:00</td>\n",
       "      <td>2019-09-03</td>\n",
       "    </tr>\n",
       "    <tr>\n",
       "      <th>1</th>\n",
       "      <td>1</td>\n",
       "      <td>11</td>\n",
       "      <td>21</td>\n",
       "      <td>2019-09-04 22:34:21</td>\n",
       "      <td>2019-09-05</td>\n",
       "      <td>2019-09-05 22:34:00</td>\n",
       "      <td>2019-09-03</td>\n",
       "    </tr>\n",
       "    <tr>\n",
       "      <th>2</th>\n",
       "      <td>3</td>\n",
       "      <td>12</td>\n",
       "      <td>22</td>\n",
       "      <td>2019-09-04 22:34:21</td>\n",
       "      <td>2019-09-01</td>\n",
       "      <td>2019-09-01 22:34:00</td>\n",
       "      <td>2019-09-03</td>\n",
       "    </tr>\n",
       "  </tbody>\n",
       "</table>\n",
       "</div>"
      ],
      "text/plain": [
       "   c1  c2  c3                  c4          c5                  c6         c7\n",
       "0   0  10  20 2019-09-04 22:34:21  2019-09-03 2019-09-03 22:34:00 2019-09-03\n",
       "1   1  11  21 2019-09-04 22:34:21  2019-09-05 2019-09-05 22:34:00 2019-09-03\n",
       "2   3  12  22 2019-09-04 22:34:21  2019-09-01 2019-09-01 22:34:00 2019-09-03"
      ]
     },
     "execution_count": 4,
     "metadata": {},
     "output_type": "execute_result"
    }
   ],
   "source": [
    "df = load_data('/Users/maming/Downloads/test/dataframe_2_data_deal.txt')\n",
    "df.info()\n",
    "df['c4'] = pd.to_datetime(df['c4'], format='%Y%m%d %H:%M:%S')  ## 字符串转换成datetime64\n",
    "df['c6'] = df['c6'].apply(lambda x: datetime.strptime(x,'%Y%m%d %H:%M:%S'))  ## 字符串转换成datetime64\n",
    "df['c7'] = df['c7'].apply(lambda x: datetime.strptime(str(x),'%Y%m%d'))  ## 字符串转换成datetime64\n",
    "##df.set_index(\"c5\", inplace=True)\n",
    "df.info()\n",
    "df"
   ]
  },
  {
   "cell_type": "code",
   "execution_count": 5,
   "metadata": {},
   "outputs": [
    {
     "name": "stdout",
     "output_type": "stream",
     "text": [
      "2019-09-10 11:40:09.428846\n"
     ]
    },
    {
     "data": {
      "text/plain": [
       "'2019-08-02 21:55:00:1564754100'"
      ]
     },
     "execution_count": 5,
     "metadata": {},
     "output_type": "execute_result"
    }
   ],
   "source": [
    "print(datetime.now())\n",
    "datetime(2019,8,2,21,55).strftime(\"%Y-%m-%d %H:%M:%S:%s\")"
   ]
  },
  {
   "cell_type": "code",
   "execution_count": 6,
   "metadata": {},
   "outputs": [
    {
     "name": "stdout",
     "output_type": "stream",
     "text": [
      "   c1  c2  c3                  c4          c5                  c6         c7\n",
      "0   0  10  20 2019-09-04 22:34:21  2019-09-03 2019-09-03 22:34:00 2019-09-03\n",
      "1   1  11  21 2019-09-04 22:34:21  2019-09-05 2019-09-05 22:34:00 2019-09-03\n"
     ]
    }
   ],
   "source": [
    "print(df.iloc[0:2,:])\n",
    "\n"
   ]
  },
  {
   "cell_type": "code",
   "execution_count": 7,
   "metadata": {},
   "outputs": [
    {
     "name": "stdout",
     "output_type": "stream",
     "text": [
      "RangeIndex(start=0, stop=5, step=1)\n",
      "RangeIndex(start=0, stop=1, step=1)\n"
     ]
    }
   ],
   "source": [
    "a = pd.DataFrame([\"a\",\"b\",\"c\",\"d\",\"e\"])\n",
    "print a.index\n",
    "print a.columns"
   ]
  },
  {
   "cell_type": "code",
   "execution_count": 8,
   "metadata": {},
   "outputs": [
    {
     "data": {
      "text/html": [
       "<div>\n",
       "<style scoped>\n",
       "    .dataframe tbody tr th:only-of-type {\n",
       "        vertical-align: middle;\n",
       "    }\n",
       "\n",
       "    .dataframe tbody tr th {\n",
       "        vertical-align: top;\n",
       "    }\n",
       "\n",
       "    .dataframe thead th {\n",
       "        text-align: right;\n",
       "    }\n",
       "</style>\n",
       "<table border=\"1\" class=\"dataframe\">\n",
       "  <thead>\n",
       "    <tr style=\"text-align: right;\">\n",
       "      <th></th>\n",
       "      <th>小写</th>\n",
       "      <th>大写</th>\n",
       "    </tr>\n",
       "  </thead>\n",
       "  <tbody>\n",
       "    <tr>\n",
       "      <th>一</th>\n",
       "      <td>a</td>\n",
       "      <td>A</td>\n",
       "    </tr>\n",
       "    <tr>\n",
       "      <th>二</th>\n",
       "      <td>b</td>\n",
       "      <td>B</td>\n",
       "    </tr>\n",
       "    <tr>\n",
       "      <th>三</th>\n",
       "      <td>c</td>\n",
       "      <td>C</td>\n",
       "    </tr>\n",
       "    <tr>\n",
       "      <th>四</th>\n",
       "      <td>d</td>\n",
       "      <td>D</td>\n",
       "    </tr>\n",
       "    <tr>\n",
       "      <th>五</th>\n",
       "      <td>e</td>\n",
       "      <td>E</td>\n",
       "    </tr>\n",
       "  </tbody>\n",
       "</table>\n",
       "</div>"
      ],
      "text/plain": [
       "  小写 大写\n",
       "一  a  A\n",
       "二  b  B\n",
       "三  c  C\n",
       "四  d  D\n",
       "五  e  E"
      ]
     },
     "execution_count": 8,
     "metadata": {},
     "output_type": "execute_result"
    }
   ],
   "source": [
    "d = [(\"a\",\"A\"),(\"b\",\"B\"),[\"c\",\"C\"],[\"d\",\"D\"],[\"e\",\"E\"]]\n",
    "pd.DataFrame(d,columns=[\"小写\",\"大写\"],index=[\"一\",\"二\",\"三\",\"四\",\"五\"])"
   ]
  },
  {
   "cell_type": "code",
   "execution_count": 9,
   "metadata": {},
   "outputs": [
    {
     "name": "stdout",
     "output_type": "stream",
     "text": [
      "Index([u'一', u'二', u'三', u'四', u'五'], dtype='object')\n",
      "Index([u'大写', u'小写'], dtype='object')\n"
     ]
    }
   ],
   "source": [
    "d = {\"小写\":[\"a\",\"b\",\"c\",\"d\",\"e\"],\"大写\":[\"A\",\"B\",\"C\",\"D\",\"E\"]} ### 字典\n",
    "a = pd.DataFrame(d,index=[\"一\",\"二\",\"三\",\"四\",\"五\"])\n",
    "print a.index\n",
    "print a.columns"
   ]
  },
  {
   "cell_type": "code",
   "execution_count": 10,
   "metadata": {},
   "outputs": [
    {
     "name": "stdout",
     "output_type": "stream",
     "text": [
      "<class 'pandas.core.frame.DataFrame'>\n",
      "RangeIndex: 4 entries, 0 to 3\n",
      "Data columns (total 7 columns):\n",
      "c1    3 non-null float64\n",
      "c2    3 non-null float64\n",
      "c3    3 non-null float64\n",
      "c4    4 non-null object\n",
      "c5    4 non-null object\n",
      "c6    4 non-null object\n",
      "c7    4 non-null int64\n",
      "dtypes: float64(3), int64(1), object(3)\n",
      "memory usage: 296.0+ bytes\n"
     ]
    },
    {
     "data": {
      "text/html": [
       "<div>\n",
       "<style scoped>\n",
       "    .dataframe tbody tr th:only-of-type {\n",
       "        vertical-align: middle;\n",
       "    }\n",
       "\n",
       "    .dataframe tbody tr th {\n",
       "        vertical-align: top;\n",
       "    }\n",
       "\n",
       "    .dataframe thead th {\n",
       "        text-align: right;\n",
       "    }\n",
       "</style>\n",
       "<table border=\"1\" class=\"dataframe\">\n",
       "  <thead>\n",
       "    <tr style=\"text-align: right;\">\n",
       "      <th></th>\n",
       "      <th>c1</th>\n",
       "      <th>c2</th>\n",
       "      <th>c3</th>\n",
       "      <th>c7</th>\n",
       "    </tr>\n",
       "  </thead>\n",
       "  <tbody>\n",
       "    <tr>\n",
       "      <th>count</th>\n",
       "      <td>3.000000</td>\n",
       "      <td>3.0</td>\n",
       "      <td>3.0</td>\n",
       "      <td>4.0</td>\n",
       "    </tr>\n",
       "    <tr>\n",
       "      <th>mean</th>\n",
       "      <td>1.333333</td>\n",
       "      <td>11.0</td>\n",
       "      <td>21.0</td>\n",
       "      <td>20190903.0</td>\n",
       "    </tr>\n",
       "    <tr>\n",
       "      <th>std</th>\n",
       "      <td>1.527525</td>\n",
       "      <td>1.0</td>\n",
       "      <td>1.0</td>\n",
       "      <td>0.0</td>\n",
       "    </tr>\n",
       "    <tr>\n",
       "      <th>min</th>\n",
       "      <td>0.000000</td>\n",
       "      <td>10.0</td>\n",
       "      <td>20.0</td>\n",
       "      <td>20190903.0</td>\n",
       "    </tr>\n",
       "    <tr>\n",
       "      <th>25%</th>\n",
       "      <td>0.500000</td>\n",
       "      <td>10.5</td>\n",
       "      <td>20.5</td>\n",
       "      <td>20190903.0</td>\n",
       "    </tr>\n",
       "    <tr>\n",
       "      <th>50%</th>\n",
       "      <td>1.000000</td>\n",
       "      <td>11.0</td>\n",
       "      <td>21.0</td>\n",
       "      <td>20190903.0</td>\n",
       "    </tr>\n",
       "    <tr>\n",
       "      <th>75%</th>\n",
       "      <td>2.000000</td>\n",
       "      <td>11.5</td>\n",
       "      <td>21.5</td>\n",
       "      <td>20190903.0</td>\n",
       "    </tr>\n",
       "    <tr>\n",
       "      <th>max</th>\n",
       "      <td>3.000000</td>\n",
       "      <td>12.0</td>\n",
       "      <td>22.0</td>\n",
       "      <td>20190903.0</td>\n",
       "    </tr>\n",
       "  </tbody>\n",
       "</table>\n",
       "</div>"
      ],
      "text/plain": [
       "             c1    c2    c3          c7\n",
       "count  3.000000   3.0   3.0         4.0\n",
       "mean   1.333333  11.0  21.0  20190903.0\n",
       "std    1.527525   1.0   1.0         0.0\n",
       "min    0.000000  10.0  20.0  20190903.0\n",
       "25%    0.500000  10.5  20.5  20190903.0\n",
       "50%    1.000000  11.0  21.0  20190903.0\n",
       "75%    2.000000  11.5  21.5  20190903.0\n",
       "max    3.000000  12.0  22.0  20190903.0"
      ]
     },
     "execution_count": 10,
     "metadata": {},
     "output_type": "execute_result"
    }
   ],
   "source": [
    "df = pd.read_table(\"/Users/maming/Downloads/test/dataframe_2_data_deal.txt\",sep = \",\")\n",
    "df.head(3)\n",
    "df.shape ### 多少行 多少列\n",
    "df.info() ## 查看每列数据类型 以及 有没有null\n",
    "df.describe() ### 数字类型的统计分布"
   ]
  },
  {
   "cell_type": "code",
   "execution_count": 11,
   "metadata": {},
   "outputs": [
    {
     "data": {
      "text/html": [
       "<div>\n",
       "<style scoped>\n",
       "    .dataframe tbody tr th:only-of-type {\n",
       "        vertical-align: middle;\n",
       "    }\n",
       "\n",
       "    .dataframe tbody tr th {\n",
       "        vertical-align: top;\n",
       "    }\n",
       "\n",
       "    .dataframe thead th {\n",
       "        text-align: right;\n",
       "    }\n",
       "</style>\n",
       "<table border=\"1\" class=\"dataframe\">\n",
       "  <thead>\n",
       "    <tr style=\"text-align: right;\">\n",
       "      <th></th>\n",
       "      <th>name</th>\n",
       "      <th>problem_count</th>\n",
       "      <th>priority_tag_name_list</th>\n",
       "      <th>20190901</th>\n",
       "    </tr>\n",
       "    <tr>\n",
       "      <th>id</th>\n",
       "      <th></th>\n",
       "      <th></th>\n",
       "      <th></th>\n",
       "      <th></th>\n",
       "    </tr>\n",
       "  </thead>\n",
       "  <tbody>\n",
       "    <tr>\n",
       "      <th>5833137</th>\n",
       "      <td>商户1</td>\n",
       "      <td>9.0</td>\n",
       "      <td>问题标签1</td>\n",
       "      <td>20190901</td>\n",
       "    </tr>\n",
       "    <tr>\n",
       "      <th>1540112</th>\n",
       "      <td>商户2</td>\n",
       "      <td>6.0</td>\n",
       "      <td>问题标签2</td>\n",
       "      <td>20190901</td>\n",
       "    </tr>\n",
       "    <tr>\n",
       "      <th>6830476</th>\n",
       "      <td>商户3</td>\n",
       "      <td>11.0</td>\n",
       "      <td>问题标签3</td>\n",
       "      <td>20190901</td>\n",
       "    </tr>\n",
       "  </tbody>\n",
       "</table>\n",
       "</div>"
      ],
      "text/plain": [
       "        name  problem_count priority_tag_name_list  20190901\n",
       "id                                                          \n",
       "5833137  商户1            9.0                  问题标签1  20190901\n",
       "1540112  商户2            6.0                  问题标签2  20190901\n",
       "6830476  商户3           11.0                  问题标签3  20190901"
      ]
     },
     "execution_count": 11,
     "metadata": {},
     "output_type": "execute_result"
    }
   ],
   "source": [
    "df = pd.read_excel(\"/Users/maming/Downloads/湖北团队.xlsx\",sheet_name=0,index_col=0,header=0,usecols=[0,1,2,4,5])\n",
    "df.head(3)\n",
    "\n"
   ]
  },
  {
   "cell_type": "code",
   "execution_count": 12,
   "metadata": {},
   "outputs": [],
   "source": [
    "df.to_excel(excel_writer = \"/Users/maming/Downloads/111111.xlsx\",sheet_name=\"1111\",\n",
    "                index = \"false\",##因为索引列没意义,所以不展示索引列,即列从0开始累加的列不展示\n",
    "                columns = [\"name\",\"problem_count\",\"20190901\"],##设置选择哪些列导出\n",
    "                header = [\"aa\",\"bb\",\"ccc\"],### 设置title\n",
    "                encoding = \"utf-8\",##设置编码\n",
    "                na_rep = 0,### 设置缺失值\n",
    "                inf_rep = 0 ## 正负无穷值处理\n",
    "                )"
   ]
  },
  {
   "cell_type": "code",
   "execution_count": 13,
   "metadata": {},
   "outputs": [],
   "source": [
    "df.to_csv(path_or_buf = \"/Users/maming/Downloads/111112.csv\",\n",
    "                sep = \",\",\n",
    "                index = \"false\",##因为索引列没意义,所以不展示索引列,即列从0开始累加的列不展示\n",
    "                columns = [\"name\",\"problem_count\",\"20190901\"],##设置选择哪些列导出\n",
    "                header = [\"aa\",\"bb\",\"ccc\"],### 设置title\n",
    "                encoding = \"utf-8\",##设置编码\n",
    "                na_rep = 0### 设置缺失值\n",
    "                )\n",
    "\n",
    "\n"
   ]
  }
 ],
 "metadata": {
  "kernelspec": {
   "display_name": "Python 2",
   "language": "python",
   "name": "python2"
  },
  "language_info": {
   "codemirror_mode": {
    "name": "ipython",
    "version": 2
   },
   "file_extension": ".py",
   "mimetype": "text/x-python",
   "name": "python",
   "nbconvert_exporter": "python",
   "pygments_lexer": "ipython2",
   "version": "2.7.15"
  }
 },
 "nbformat": 4,
 "nbformat_minor": 2
}
