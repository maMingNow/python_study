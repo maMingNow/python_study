{
 "cells": [
  {
   "cell_type": "code",
   "execution_count": 1,
   "metadata": {},
   "outputs": [],
   "source": [
    "### Numpy\n",
    "### Numpy用于矩阵运算,只是工作中很多数据是以excel表格形式存在,而不是以矩阵存在,所以pandas更常用.但是pandas里面有大量的Numpy操作。\n",
    "\n",
    "\n",
    "### 矩阵操作 其实可以理解成array数组操作,一维二维等形式不同而已，统称为数组\n",
    "### 生成数组 np.array np.arange\n",
    "### 特殊矩阵 zeros ones eye\n",
    "### 随机数组 np.random.rand np.random.randn np.random.randint\n",
    "### 从数组data中随机筛选size个元素,组成新的数组 np.random.choice() \n",
    "### 对数组参数重新打乱顺序 np.random.shuffle() \n",
    "\n",
    "\n",
    "### 数组的属性 shape size dtype ndim\n",
    "\n",
    "\n",
    "### 数组元素获取 下标从0开始,倒序从-1开始\n",
    "\n",
    "\n",
    "### 数据类型转换 astype\n",
    "### 缺失值处理 isnan\n",
    "### 重复值处理 unique\n",
    "### 数组重塑:数组数据内容不变,对数据重新规划 reshape\n",
    "### 数组转置 .T\n",
    "  \n",
    "    \n",
    "### 数组合并 \n",
    "### 横向合并 相当于left join ;横向合并,即追加列,行数都相同,列数不同  concatenate hstack column_stack\n",
    "### 纵向合并 相当于union all ;纵向合并,即追加行,列数都相同,行数不同  concatenate hstack column_stack\n",
    "\n",
    "\n",
    "### 常用分析函数\n",
    "### 对数组内每一个元素进行处理  square平方 sqrt开方 abs绝对值 exp e(x)\n",
    "### log、log10、log2、log1p 分别为自然对数（底数为e）、底数为10的log、底数为2的log、log(1+x)\n",
    "### ceil向上取整 floor向下取整  rint四舍五入\n",
    "### 数组整体、行、列 分别计算汇总值  sum mean算术平均数  average加权平均  median中位数 min max  std、var \n",
    "### np.percentile(data,95) #95%分位数\n",
    "\n",
    "\n",
    "### 集合关系 唯一元素unique、交集intersect1d、并集union1d、包含in1d、差集setdiff1d、集合对称差 setxor1d\n",
    "\n",
    "### 条件函数 np.where(condition,x,y) 类似于if(condition,x,y)\n",
    "### 排序 sort\n",
    "### all、any"
   ]
  },
  {
   "cell_type": "code",
   "execution_count": 2,
   "metadata": {},
   "outputs": [],
   "source": [
    "import pandas as pd\n",
    "import numpy as np\n",
    "from datetime import datetime, date, time, timedelta\n",
    "from pandas.tseries.offsets import Day,Hour,Minute\n",
    "import sys\n",
    "stdo = sys.stdout\n",
    "reload(sys)\n",
    "sys.setdefaultencoding('utf-8')\n",
    "sys.stdout= stdo"
   ]
  },
  {
   "cell_type": "code",
   "execution_count": 3,
   "metadata": {},
   "outputs": [
    {
     "name": "stdout",
     "output_type": "stream",
     "text": [
      "[ 2  4  6  8 10]\n",
      "[ 2  4  6  8 10]\n",
      "5\n",
      "[[ 2  4  6  8 10]\n",
      " [ 2  4  6  8 10]]\n",
      "2\n"
     ]
    }
   ],
   "source": [
    "### 生成数组\n",
    "print np.array([2,4,6,8,10]) ### [ 2  4  6  8 10] \n",
    "print np.array((2,4,6,8,10)) ### [ 2  4  6  8 10] 列表和元组都可以当参数\n",
    "print len(np.array((2,4,6,8,10))) ### 长度为5\n",
    "### 多维数组\n",
    "arr1 = np.array(([2,4,6,8,10],[2,4,6,8,10])) \n",
    "print arr1\n",
    "print len(arr1) ### 长度为2"
   ]
  },
  {
   "cell_type": "code",
   "execution_count": 4,
   "metadata": {},
   "outputs": [
    {
     "name": "stdout",
     "output_type": "stream",
     "text": [
      "[ 0  1  2  3  4  5  6  7  8  9 10 11 12 13 14]\n",
      "[ 0  1  2  3  4  5  6  7  8  9 10 11 12 13 14]\n"
     ]
    }
   ],
   "source": [
    "### 参数start,end,step 其中 [start,end),start默认0,step默认1\n",
    "print np.arange(0,15,1) ### 等同于 np.arange(15)\n",
    "print np.arange(15)"
   ]
  },
  {
   "cell_type": "code",
   "execution_count": 5,
   "metadata": {},
   "outputs": [
    {
     "name": "stdout",
     "output_type": "stream",
     "text": [
      "[0. 0. 0. 0.]\n",
      "[[0. 0. 0. 0. 0.]\n",
      " [0. 0. 0. 0. 0.]\n",
      " [0. 0. 0. 0. 0.]\n",
      " [0. 0. 0. 0. 0.]]\n",
      "[1. 1. 1. 1.]\n",
      "[[1. 1. 1. 1. 1.]\n",
      " [1. 1. 1. 1. 1.]\n",
      " [1. 1. 1. 1. 1.]\n",
      " [1. 1. 1. 1. 1.]]\n",
      "[[1. 0. 0. 0.]\n",
      " [0. 1. 0. 0.]\n",
      " [0. 0. 1. 0.]\n",
      " [0. 0. 0. 1.]]\n"
     ]
    }
   ],
   "source": [
    "### 特殊矩阵 zeros ones eye\n",
    "print np.zeros(4)\n",
    "print np.zeros((4,5))\n",
    "print np.ones(4)\n",
    "print np.ones((4,5))\n",
    "print np.eye(4) ### 一定是方阵,因为只有方针才有单位矩阵---对角线都是1,其余都是0"
   ]
  },
  {
   "cell_type": "code",
   "execution_count": 6,
   "metadata": {},
   "outputs": [
    {
     "name": "stdout",
     "output_type": "stream",
     "text": [
      "[0.61794382 0.45773409 0.79169751 0.54470453 0.53916985]\n",
      "[[0.81965581 0.98523819 0.87709186 0.69990843 0.05129769]\n",
      " [0.45834389 0.59275122 0.94433304 0.22333726 0.89807874]\n",
      " [0.62495862 0.01479399 0.72596368 0.60009449 0.40818283]\n",
      " [0.05067437 0.39029967 0.5365519  0.0289626  0.70757676]]\n",
      "[-0.63007795  0.21836844 -1.59813424 -1.35174625  1.79686875]\n",
      "[[-0.1561688   0.48698792 -0.1965828  -1.59557482 -2.58654457]\n",
      " [ 0.70136162 -0.01841266  0.35216654  1.05655039 -0.42415508]\n",
      " [ 0.29727246  0.4894556   1.11996393  0.32953278  0.1579939 ]\n",
      " [-0.17670407  1.41178399  0.04567715 -2.07881     0.39539006]]\n"
     ]
    }
   ],
   "source": [
    "### 随机数组\n",
    "print np.random.rand(5) ### (0,1)之间随机数组\n",
    "print np.random.rand(4,5) ### (0,1)之间随机多维数组--随机矩阵\n",
    "### randn 用于产生满足整体分布形状的随机数\n",
    "print np.random.randn(5) ### 非0-1之间,但是保证正态分布\n",
    "print np.random.randn(4,5) ### 非0-1之间,但是保证正态分布"
   ]
  },
  {
   "cell_type": "code",
   "execution_count": 7,
   "metadata": {},
   "outputs": [
    {
     "name": "stdout",
     "output_type": "stream",
     "text": [
      "[9 9 9 6 6 6]\n",
      "[[7 9 7 8 8]\n",
      " [8 7 7 6 5]\n",
      " [8 9 8 7 9]\n",
      " [7 8 5 5 6]]\n",
      "[[0 4 2 0 2]\n",
      " [0 0 2 2 0]\n",
      " [1 0 2 0 3]\n",
      " [1 0 3 4 2]]\n"
     ]
    }
   ],
   "source": [
    "### randint(start,end,size) 随机产生一定范围内的整数,注意:[start,end),size表示数组大小,\n",
    "print np.random.randint(5,10,6) ### [5,10)之间产生6个随机整数\n",
    "print np.random.randint(5,10,(4,5)) ### 产生2维数组\n",
    "print np.random.randint(5,size = (4,5)) ### 没有填写start,表示start=0,输出内容是[0,5)"
   ]
  },
  {
   "cell_type": "code",
   "execution_count": 8,
   "metadata": {},
   "outputs": [
    {
     "name": "stdout",
     "output_type": "stream",
     "text": [
      "[3 3 3 3]\n",
      "[[0 2 3 1 3]\n",
      " [3 0 0 4 0]\n",
      " [0 2 3 0 0]\n",
      " [0 1 3 3 0]]\n"
     ]
    }
   ],
   "source": [
    "### 从数组data中随机筛选size个元素,组成新的数组 np.random.choice() \n",
    "### 参数 array,size,replace,p   注意:array可以是数组,也可以是整数,整数时表示先arange(int)生成数组.\n",
    "print np.random.choice(5,size = 4) ### 随机找4个元素,生成一维数组\n",
    "print np.random.choice(5,size = (4,5))  ###生成二维数组"
   ]
  },
  {
   "cell_type": "code",
   "execution_count": 9,
   "metadata": {},
   "outputs": [
    {
     "name": "stdout",
     "output_type": "stream",
     "text": [
      "[0 1 2 3 4 5 6 7 8 9]\n",
      "[4 0 7 6 3 1 5 9 2 8]\n"
     ]
    }
   ],
   "source": [
    "### 对数组参数重新打乱顺序 np.random.shuffle() \n",
    "arr2 = np.arange(10)\n",
    "print arr2\n",
    "np.random.shuffle(arr2)\n",
    "print arr2"
   ]
  },
  {
   "cell_type": "code",
   "execution_count": 10,
   "metadata": {},
   "outputs": [
    {
     "name": "stdout",
     "output_type": "stream",
     "text": [
      "(4, 5)\n",
      "20\n",
      "int64\n",
      "2\n"
     ]
    }
   ],
   "source": [
    "### 数组的属性 shape size dtype ndim\n",
    "arr3 = np.random.randint(5,size = (4,5))\n",
    "print arr3.shape ### shape形状,即多少维\n",
    "print arr3.size ### 数组大小---提供多少个元素\n",
    "print arr3.dtype ### 数组元素类型\n",
    "print arr3.ndim ### 数组维度"
   ]
  },
  {
   "cell_type": "code",
   "execution_count": 11,
   "metadata": {},
   "outputs": [
    {
     "name": "stdout",
     "output_type": "stream",
     "text": [
      "0\n",
      "9\n",
      "[4 5 6]\n",
      "[4 5 6 7]\n",
      "[3 4 5 6 7]\n",
      "-------\n",
      "[[4 3 3 3 3]\n",
      " [1 0 3 4 1]\n",
      " [3 4 4 0 1]\n",
      " [4 0 2 0 3]]\n",
      "-------\n",
      "[[3 4 4 0 1]\n",
      " [4 0 2 0 3]]\n",
      "[[3 3]\n",
      " [3 4]\n",
      " [4 0]\n",
      " [2 0]]\n"
     ]
    }
   ],
   "source": [
    "### 数组元素获取 下标从0开始,倒序从-1开始\n",
    "### 一维数组\n",
    "arr2 = np.arange(10)\n",
    "print arr2[0]\n",
    "print arr2[-1]\n",
    "print arr2[4:7]\n",
    "print arr2[4:-2] ### 正序、倒序混用\n",
    "print arr2[(arr2 >= 3) & (arr2 <= 7)] ### 条件筛选  返回元素满足判断条件的数据集合\n",
    "print \"-------\"\n",
    "### 多维数组\n",
    "arr3 = np.random.randint(5,size = (4,5))\n",
    "print arr3\n",
    "print \"-------\"\n",
    "print arr3[2:4] ### 获取某2整行数据\n",
    "print arr3[:,2:4] ### 获取某2整列数据"
   ]
  },
  {
   "cell_type": "code",
   "execution_count": 12,
   "metadata": {},
   "outputs": [
    {
     "name": "stdout",
     "output_type": "stream",
     "text": [
      "int64\n",
      "[[4. 0. 4. 3. 0.]\n",
      " [1. 2. 3. 2. 1.]\n",
      " [0. 0. 4. 2. 2.]\n",
      " [1. 1. 1. 4. 2.]]\n",
      "float64\n",
      "[['4' '0' '4' '3' '0']\n",
      " ['1' '2' '3' '2' '1']\n",
      " ['0' '0' '4' '2' '2']\n",
      " ['1' '1' '1' '4' '2']]\n",
      "|S21\n"
     ]
    }
   ],
   "source": [
    "### 数据内容处理\n",
    "### 数据类型转换 astype\n",
    "arr3 = np.random.randint(5,size = (4,5))\n",
    "print arr3.dtype\n",
    "print arr3.astype(np.float64)\n",
    "print arr3.astype(np.float64).dtype\n",
    "print arr3.astype(np.string_)\n",
    "print arr3.astype(np.string_).dtype"
   ]
  },
  {
   "cell_type": "code",
   "execution_count": 13,
   "metadata": {},
   "outputs": [
    {
     "name": "stdout",
     "output_type": "stream",
     "text": [
      "[False False  True False]\n",
      "[1. 2. 0. 4.]\n"
     ]
    }
   ],
   "source": [
    "### 缺失值处理 isnan\n",
    "arr5 = np.array([1,2,np.nan,4])\n",
    "print np.isnan(arr5) ### 判断是否有缺失值\n",
    "arr5[np.isnan(arr5)] = 0 ### 获取缺失值,将其设置为0\n",
    "print arr5"
   ]
  },
  {
   "cell_type": "code",
   "execution_count": 14,
   "metadata": {},
   "outputs": [
    {
     "name": "stdout",
     "output_type": "stream",
     "text": [
      "[1 2 4]\n"
     ]
    }
   ],
   "source": [
    "### 重复值处理 unique\n",
    "arr5 = np.array([1,2,2,4,4])\n",
    "print np.unique(arr5) ### 产生新的数组"
   ]
  },
  {
   "cell_type": "code",
   "execution_count": 15,
   "metadata": {},
   "outputs": [
    {
     "name": "stdout",
     "output_type": "stream",
     "text": [
      "[[0 1 2 3 4]\n",
      " [5 6 7 8 9]]\n",
      "[0 1 2 3 4 5 6 7 8 9]\n",
      "-----\n",
      "[[2 0 4 4]\n",
      " [0 0 3 1]\n",
      " [3 2 1 2]\n",
      " [3 1 2 1]\n",
      " [2 2 2 4]]\n",
      "-----\n",
      "[[2 0 4 4 0]\n",
      " [0 3 1 3 2]\n",
      " [1 2 3 1 2]\n",
      " [1 2 2 2 4]]\n"
     ]
    }
   ],
   "source": [
    "### 数组重塑:数组数据内容不变,对数据重新规划 reshape\n",
    "###一维数组\n",
    "arr2 = np.arange(10)\n",
    "print arr2.reshape(2,5) ### 产生新的数组 2行5列\n",
    "print arr2\n",
    "print \"-----\"\n",
    "###二维数组\n",
    "arr3 = np.random.randint(5,size = (4,5))\n",
    "print arr3.reshape(5,4) ### 产生新的数组 2行5列\n",
    "print \"-----\"\n",
    "print arr3"
   ]
  },
  {
   "cell_type": "code",
   "execution_count": 16,
   "metadata": {},
   "outputs": [
    {
     "name": "stdout",
     "output_type": "stream",
     "text": [
      "[[2 3 3 3 3]\n",
      " [4 1 0 1 0]\n",
      " [0 2 0 1 2]\n",
      " [1 0 3 1 2]]\n",
      "-----\n",
      "[[2 4 0 1]\n",
      " [3 1 2 0]\n",
      " [3 0 0 3]\n",
      " [3 1 1 1]\n",
      " [3 0 2 2]]\n"
     ]
    }
   ],
   "source": [
    "### 数组转置 .T\n",
    "arr3 = np.random.randint(5,size = (4,5))\n",
    "print arr3\n",
    "print \"-----\"\n",
    "print arr3.T"
   ]
  },
  {
   "cell_type": "code",
   "execution_count": 28,
   "metadata": {},
   "outputs": [
    {
     "name": "stdout",
     "output_type": "stream",
     "text": [
      "[[4 1 4 1 3]\n",
      " [1 2 3 4 4]\n",
      " [1 1 0 3 2]\n",
      " [1 4 0 0 4]]\n",
      "----\n",
      "[[2 0 2 2 4 0 0]\n",
      " [2 4 3 1 3 0 2]\n",
      " [2 3 4 4 1 1 0]\n",
      " [4 1 3 4 3 2 4]]\n",
      "----\n",
      "[[4 1 4 1 3 2 0 2 2 4 0 0]\n",
      " [1 2 3 4 4 2 4 3 1 3 0 2]\n",
      " [1 1 0 3 2 2 3 4 4 1 1 0]\n",
      " [1 4 0 0 4 4 1 3 4 3 2 4]]\n",
      "----\n",
      "[[4 1 4 1 3 2 0 2 2 4 0 0]\n",
      " [1 2 3 4 4 2 4 3 1 3 0 2]\n",
      " [1 1 0 3 2 2 3 4 4 1 1 0]\n",
      " [1 4 0 0 4 4 1 3 4 3 2 4]]\n",
      "----\n",
      "[[4 1 4 1 3 2 0 2 2 4 0 0]\n",
      " [1 2 3 4 4 2 4 3 1 3 0 2]\n",
      " [1 1 0 3 2 2 3 4 4 1 1 0]\n",
      " [1 4 0 0 4 4 1 3 4 3 2 4]]\n"
     ]
    }
   ],
   "source": [
    "### 数组合并 \n",
    "### 横向合并 相当于left join ;横向合并,即追加列,行数都相同,列数不同  concatenate hstack column_stack\n",
    "arr3 = np.random.randint(5,size = (4,5))\n",
    "arr4 = np.random.randint(5,size = (4,7))\n",
    "print arr3\n",
    "print \"----\"\n",
    "print arr4\n",
    "print \"----\"\n",
    "print np.concatenate([arr3,arr4],axis = 1) ### 1表示横向合并\n",
    "print \"----\"\n",
    "print np.hstack((arr3,arr4)) ### 以元组为参数,不需要写 axis = 1\n",
    "print \"----\"\n",
    "print np.column_stack((arr3,arr4)) ### 以元组为参数,不需要写 axis = 1"
   ]
  },
  {
   "cell_type": "code",
   "execution_count": 31,
   "metadata": {},
   "outputs": [
    {
     "name": "stdout",
     "output_type": "stream",
     "text": [
      "[[2 2 4 0 3]\n",
      " [2 1 4 3 3]\n",
      " [2 3 0 1 0]\n",
      " [4 1 4 1 4]]\n",
      "----\n",
      "[[1 2 2 0 3]\n",
      " [3 2 2 0 0]\n",
      " [0 3 4 3 4]\n",
      " [0 2 4 0 1]\n",
      " [3 1 0 1 3]\n",
      " [4 2 3 2 1]\n",
      " [0 1 4 2 4]]\n",
      "----\n",
      "[[2 2 4 0 3]\n",
      " [2 1 4 3 3]\n",
      " [2 3 0 1 0]\n",
      " [4 1 4 1 4]\n",
      " [1 2 2 0 3]\n",
      " [3 2 2 0 0]\n",
      " [0 3 4 3 4]\n",
      " [0 2 4 0 1]\n",
      " [3 1 0 1 3]\n",
      " [4 2 3 2 1]\n",
      " [0 1 4 2 4]]\n",
      "----\n",
      "[[2 2 4 0 3]\n",
      " [2 1 4 3 3]\n",
      " [2 3 0 1 0]\n",
      " [4 1 4 1 4]\n",
      " [1 2 2 0 3]\n",
      " [3 2 2 0 0]\n",
      " [0 3 4 3 4]\n",
      " [0 2 4 0 1]\n",
      " [3 1 0 1 3]\n",
      " [4 2 3 2 1]\n",
      " [0 1 4 2 4]]\n",
      "----\n",
      "[[2 2 4 0 3]\n",
      " [2 1 4 3 3]\n",
      " [2 3 0 1 0]\n",
      " [4 1 4 1 4]\n",
      " [1 2 2 0 3]\n",
      " [3 2 2 0 0]\n",
      " [0 3 4 3 4]\n",
      " [0 2 4 0 1]\n",
      " [3 1 0 1 3]\n",
      " [4 2 3 2 1]\n",
      " [0 1 4 2 4]]\n"
     ]
    }
   ],
   "source": [
    "### 数组合并 \n",
    "### 纵向合并 相当于union all ;纵向合并,即追加行,列数都相同,行数不同  concatenate hstack column_stack\n",
    "arr3 = np.random.randint(5,size = (4,5))\n",
    "arr4 = np.random.randint(5,size = (7,5))\n",
    "print arr3\n",
    "print \"----\"\n",
    "print arr4\n",
    "print \"----\"\n",
    "print np.concatenate([arr3,arr4],axis = 0) ### 0表示纵向合并\n",
    "print \"----\"\n",
    "print np.vstack((arr3,arr4)) ### 以元组为参数,不需要写 axis = 1\n",
    "print \"----\"\n",
    "print np.row_stack((arr3,arr4)) ### 以元组为参数,不需要写 axis = 1"
   ]
  },
  {
   "cell_type": "code",
   "execution_count": 18,
   "metadata": {},
   "outputs": [
    {
     "name": "stdout",
     "output_type": "stream",
     "text": [
      "[[2 0 4 0 3]\n",
      " [4 4 1 2 4]\n",
      " [2 1 3 2 3]\n",
      " [3 0 3 3 1]]\n",
      "-----\n",
      "[[ 4  0 16  0  9]\n",
      " [16 16  1  4 16]\n",
      " [ 4  1  9  4  9]\n",
      " [ 9  0  9  9  1]]\n",
      "-----\n",
      "[[2 0 4 0 3]\n",
      " [4 4 1 2 4]\n",
      " [2 1 3 2 3]\n",
      " [3 0 3 3 1]]\n"
     ]
    }
   ],
   "source": [
    "### 常用分析函数\n",
    "### 对数组内每一个元素进行处理  square平方 sqrt开方 abs绝对值 exp e(x)\n",
    "### log、log10、log2、log1p 分别为自然对数（底数为e）、底数为10的log、底数为2的log、log(1+x)\n",
    "### ceil向上取整 floor向下取整  rint四舍五入\n",
    "arr3 = np.random.randint(5,size = (4,5))\n",
    "print arr3\n",
    "print \"-----\"\n",
    "print np.square(arr3) ### 产生新的数组\n",
    "print \"-----\"\n",
    "print arr3"
   ]
  },
  {
   "cell_type": "code",
   "execution_count": 19,
   "metadata": {},
   "outputs": [
    {
     "name": "stdout",
     "output_type": "stream",
     "text": [
      "[[4 1 2 1 1]\n",
      " [2 0 2 3 1]\n",
      " [1 3 0 1 4]\n",
      " [4 0 1 0 2]]\n",
      "-----\n",
      "33\n",
      "[9 8 9 7]\n",
      "[11  4  5  5  8]\n"
     ]
    }
   ],
   "source": [
    "### 常用分析函数\n",
    "### 数组整体、行、列 分别计算汇总值  sum mean算术平均数  average加权平均  median中位数 min max  std、var\n",
    "arr3 = np.random.randint(5,size = (4,5))\n",
    "print arr3\n",
    "print \"-----\"\n",
    "print arr3.sum()\n",
    "print arr3.sum(axis = 1) ### 行汇总\n",
    "print arr3.sum(axis = 0) ### 列汇总"
   ]
  },
  {
   "cell_type": "code",
   "execution_count": 20,
   "metadata": {},
   "outputs": [
    {
     "name": "stdout",
     "output_type": "stream",
     "text": [
      "[1 2 3 4 5]\n",
      "[2 4]\n",
      "[ 0  1  2  3  4  5  6  8 10 12 14 16 18 20 22 24 26 28]\n",
      "[False  True False  True False  True False  True]\n",
      "[2 2 4 2]\n",
      "[1 3 5]\n",
      "[ 0  1  3  5  6  8 10 12 14 16 18 20 22 24 26 28]\n"
     ]
    }
   ],
   "source": [
    "### 集合关系 唯一元素unique、交集intersect1d、并集union1d、包含in1d、差集setdiff1d、集合对称差 setxor1d\n",
    "s0 = np.array([1,2,3,2,1,4,5,2])    # [1 2 3 2 1 4 5 2]\n",
    "s1 = np.arange(0,30,2)  # [ 0  2  4  6  8 10 12 14 16 18 20 22 24 26 28]\n",
    "s2 = np.arange(0,30,3)  # [ 0  3  6  9 12 15 18 21 24 27]\n",
    "\n",
    "### 唯一元素unique\n",
    "print np.unique(s0) ### [1 2 3 4 5]\n",
    "\n",
    "### 交集intersect1d\n",
    "print np.intersect1d(s0,s1) ### [2 4]\n",
    "\n",
    "### 并集union1d\n",
    "print np.union1d(s0,s1) ### [ 0  1  2  3  4  5  6  8 10 12 14 16 18 20 22 24 26 28]\n",
    "\n",
    "### 包含in1d\n",
    "print np.in1d(s0,s1) ### 得到一个”s0的元素是否包含于s1”的布尔行数组 [False  True False  True False  True False  True]\n",
    "print s0[np.in1d(s0,s1)] ### 从而可以过滤数据  [2 2 4 2]\n",
    "\n",
    "### 差集 setdiff1d 与包含相反,表示s0元素不在s1中的\n",
    "print np.setdiff1d(s0,s1) ### [1 3 5]\n",
    "\n",
    "### 集合对称差 setxor1d 只存在x和y中的元素集合,即非公共部分的数据\n",
    "print np.setxor1d(s0,s1) ### [ 0  1  3  5  6  8 10 12 14 16 18 20 22 24 26 28]"
   ]
  },
  {
   "cell_type": "code",
   "execution_count": 21,
   "metadata": {},
   "outputs": [
    {
     "name": "stdout",
     "output_type": "stream",
     "text": [
      "[u'fail' u'success' u'success']\n",
      "(array([1, 2]),)\n"
     ]
    }
   ],
   "source": [
    "### 条件函数 np.where(condition,x,y) 类似于if(condition,x,y)\n",
    "arr8 = np.array([50,60,70])\n",
    "print np.where(arr8>=60,u\"success\",u\"fail\")\n",
    "print np.where(arr8>=60) ### 返回满足条件的数据的下标"
   ]
  },
  {
   "cell_type": "code",
   "execution_count": 22,
   "metadata": {},
   "outputs": [
    {
     "name": "stdout",
     "output_type": "stream",
     "text": [
      "[0 1 2 3 4 5 6 7 8 9]\n",
      "[7 0 8 3 6 1 2 4 5 9]\n",
      "[0 1 2 3 4 5 6 7 8 9]\n"
     ]
    }
   ],
   "source": [
    "### 排序 sort\n",
    "arr2 = np.arange(10)\n",
    "print arr2\n",
    "np.random.shuffle(arr2) ### 乱序\n",
    "print arr2\n",
    "arr2.sort() ### 排序\n",
    "print arr2"
   ]
  },
  {
   "cell_type": "code",
   "execution_count": 23,
   "metadata": {},
   "outputs": [
    {
     "name": "stdout",
     "output_type": "stream",
     "text": [
      "False\n",
      "True\n"
     ]
    }
   ],
   "source": [
    "### all、any\n",
    "### all：必须所有的都是true,才返回true,相当于and\n",
    "### any: 只要有true,结果就是true,相当于or\n",
    "arr = np.array([True,False,True,True,False])\n",
    "print arr.all()    # False\n",
    "print arr.any()    # True"
   ]
  },
  {
   "cell_type": "code",
   "execution_count": null,
   "metadata": {},
   "outputs": [],
   "source": []
  }
 ],
 "metadata": {
  "kernelspec": {
   "display_name": "Python 2",
   "language": "python",
   "name": "python2"
  },
  "language_info": {
   "codemirror_mode": {
    "name": "ipython",
    "version": 2
   },
   "file_extension": ".py",
   "mimetype": "text/x-python",
   "name": "python",
   "nbconvert_exporter": "python",
   "pygments_lexer": "ipython2",
   "version": "2.7.15"
  }
 },
 "nbformat": 4,
 "nbformat_minor": 2
}
