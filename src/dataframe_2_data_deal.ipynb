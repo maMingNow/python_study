{
 "cells": [
  {
   "cell_type": "code",
   "execution_count": 1,
   "metadata": {},
   "outputs": [],
   "source": [
    "### 已经学习 5(数据处理) 6(数据筛选) 7(数值操作)章\n",
    "### 7章 数值替换(replace)  数据排序(sort_values)  数据删除 df.drop([\"c2\",\"c3\"],axis = 1) 和条件删除 df[df[\"c2\"] > 10]\n",
    "### df[df[\"c3\"].isin([20,21])] 保留c3列包含20和21的数据\n",
    "### 数值计数 value_counts  计算某一个列,每一个值出现的次数\n",
    "### 某列的唯一值 unique\n",
    "### 数值查找,相当于contain,显示该数值是否在该表存在,或者该列存在,isin\n",
    "### 插入新列\n",
    "### 数据转置  df.T\n",
    "### apply 与 applymap函数\n",
    "### cut qcut 数据分组拆分\n",
    "\n",
    "### 7.3节 rank的method = min,max,first,average 7.11 df.stack df.unstack 7.12 melt 暂时忽略不讲"
   ]
  },
  {
   "cell_type": "code",
   "execution_count": 2,
   "metadata": {},
   "outputs": [],
   "source": [
    "import pandas as pd\n",
    "import numpy as np\n",
    "from datetime import datetime, date, time, timedelta\n",
    "from pandas.tseries.offsets import Day,Hour,Minute\n",
    "import sys\n",
    "stdo = sys.stdout\n",
    "reload(sys)\n",
    "sys.setdefaultencoding('utf-8')\n",
    "sys.stdout= stdo"
   ]
  },
  {
   "cell_type": "code",
   "execution_count": 3,
   "metadata": {},
   "outputs": [],
   "source": [
    "def load_data(filepath):\n",
    "    df = pd.read_csv(filepath,sep=',',nrows = 100,encoding = \"utf-8\",engine=\"python\")\n",
    "    return df"
   ]
  },
  {
   "cell_type": "code",
   "execution_count": 4,
   "metadata": {},
   "outputs": [
    {
     "data": {
      "text/html": [
       "<div>\n",
       "<style scoped>\n",
       "    .dataframe tbody tr th:only-of-type {\n",
       "        vertical-align: middle;\n",
       "    }\n",
       "\n",
       "    .dataframe tbody tr th {\n",
       "        vertical-align: top;\n",
       "    }\n",
       "\n",
       "    .dataframe thead th {\n",
       "        text-align: right;\n",
       "    }\n",
       "</style>\n",
       "<table border=\"1\" class=\"dataframe\">\n",
       "  <thead>\n",
       "    <tr style=\"text-align: right;\">\n",
       "      <th></th>\n",
       "      <th>c1</th>\n",
       "      <th>c2</th>\n",
       "      <th>c3</th>\n",
       "      <th>c4</th>\n",
       "      <th>c5</th>\n",
       "      <th>c6</th>\n",
       "      <th>c7</th>\n",
       "    </tr>\n",
       "  </thead>\n",
       "  <tbody>\n",
       "    <tr>\n",
       "      <th>0</th>\n",
       "      <td>0.0</td>\n",
       "      <td>10.0</td>\n",
       "      <td>20.0</td>\n",
       "      <td>2019-09-04 22:34:21</td>\n",
       "      <td>2019-09-03</td>\n",
       "      <td>2019-09-03 22:34:00</td>\n",
       "      <td>2019-09-03</td>\n",
       "    </tr>\n",
       "    <tr>\n",
       "      <th>1</th>\n",
       "      <td>1.0</td>\n",
       "      <td>11.0</td>\n",
       "      <td>21.0</td>\n",
       "      <td>2019-09-04 22:34:21</td>\n",
       "      <td>2019-09-05</td>\n",
       "      <td>2019-09-05 22:34:00</td>\n",
       "      <td>2019-09-03</td>\n",
       "    </tr>\n",
       "    <tr>\n",
       "      <th>2</th>\n",
       "      <td>3.0</td>\n",
       "      <td>12.0</td>\n",
       "      <td>22.0</td>\n",
       "      <td>2019-09-04 22:34:21</td>\n",
       "      <td>2019-09-01</td>\n",
       "      <td>2019-09-01 22:34:00</td>\n",
       "      <td>2019-09-03</td>\n",
       "    </tr>\n",
       "    <tr>\n",
       "      <th>3</th>\n",
       "      <td>NaN</td>\n",
       "      <td>NaN</td>\n",
       "      <td>NaN</td>\n",
       "      <td>2019-09-04 22:34:21</td>\n",
       "      <td>2019-09-01</td>\n",
       "      <td>2019-09-01 22:34:00</td>\n",
       "      <td>2019-09-03</td>\n",
       "    </tr>\n",
       "  </tbody>\n",
       "</table>\n",
       "</div>"
      ],
      "text/plain": [
       "    c1    c2    c3                  c4          c5                  c6  \\\n",
       "0  0.0  10.0  20.0 2019-09-04 22:34:21  2019-09-03 2019-09-03 22:34:00   \n",
       "1  1.0  11.0  21.0 2019-09-04 22:34:21  2019-09-05 2019-09-05 22:34:00   \n",
       "2  3.0  12.0  22.0 2019-09-04 22:34:21  2019-09-01 2019-09-01 22:34:00   \n",
       "3  NaN   NaN   NaN 2019-09-04 22:34:21  2019-09-01 2019-09-01 22:34:00   \n",
       "\n",
       "          c7  \n",
       "0 2019-09-03  \n",
       "1 2019-09-03  \n",
       "2 2019-09-03  \n",
       "3 2019-09-03  "
      ]
     },
     "execution_count": 4,
     "metadata": {},
     "output_type": "execute_result"
    }
   ],
   "source": [
    "df = load_data('/Users/maming/Downloads/test/dataframe_2_data_deal.txt')\n",
    "df['c4'] = pd.to_datetime(df['c4'], format='%Y%m%d %H:%M:%S')  ## 字符串转换成datetime64\n",
    "df['c6'] = df['c6'].apply(lambda x: datetime.strptime(x,'%Y%m%d %H:%M:%S'))  ## 字符串转换成datetime64\n",
    "df['c7'] = df['c7'].apply(lambda x: datetime.strptime(str(x),'%Y%m%d'))  ## 字符串转换成datetime64\n",
    "df"
   ]
  },
  {
   "cell_type": "code",
   "execution_count": 5,
   "metadata": {},
   "outputs": [
    {
     "name": "stdout",
     "output_type": "stream",
     "text": [
      "<class 'pandas.core.frame.DataFrame'>\n",
      "RangeIndex: 4 entries, 0 to 3\n",
      "Data columns (total 7 columns):\n",
      "c1    3 non-null float64\n",
      "c2    3 non-null float64\n",
      "c3    3 non-null float64\n",
      "c4    4 non-null datetime64[ns]\n",
      "c5    4 non-null object\n",
      "c6    4 non-null datetime64[ns]\n",
      "c7    4 non-null datetime64[ns]\n",
      "dtypes: datetime64[ns](3), float64(3), object(1)\n",
      "memory usage: 296.0+ bytes\n",
      "      c1     c2     c3     c4     c5     c6     c7\n",
      "0  False  False  False  False  False  False  False\n",
      "1  False  False  False  False  False  False  False\n",
      "2  False  False  False  False  False  False  False\n",
      "3   True   True   True  False  False  False  False\n",
      "    c1    c2    c3                  c4          c5                  c6  \\\n",
      "0  0.0  10.0  20.0 2019-09-04 22:34:21  2019-09-03 2019-09-03 22:34:00   \n",
      "1  1.0  11.0  21.0 2019-09-04 22:34:21  2019-09-05 2019-09-05 22:34:00   \n",
      "2  3.0  12.0  22.0 2019-09-04 22:34:21  2019-09-01 2019-09-01 22:34:00   \n",
      "\n",
      "          c7  \n",
      "0 2019-09-03  \n",
      "1 2019-09-03  \n",
      "2 2019-09-03  \n",
      "    c1    c2    c3                  c4          c5                  c6  \\\n",
      "0  0.0  10.0  20.0 2019-09-04 22:34:21  2019-09-03 2019-09-03 22:34:00   \n",
      "1  1.0  11.0  21.0 2019-09-04 22:34:21  2019-09-05 2019-09-05 22:34:00   \n",
      "2  3.0  12.0  22.0 2019-09-04 22:34:21  2019-09-01 2019-09-01 22:34:00   \n",
      "3  NaN   NaN   NaN 2019-09-04 22:34:21  2019-09-01 2019-09-01 22:34:00   \n",
      "\n",
      "          c7  \n",
      "0 2019-09-03  \n",
      "1 2019-09-03  \n",
      "2 2019-09-03  \n",
      "3 2019-09-03  \n",
      "     c1     c2    c3                  c4          c5                  c6  \\\n",
      "0   0.0   10.0  20.0 2019-09-04 22:34:21  2019-09-03 2019-09-03 22:34:00   \n",
      "1   1.0   11.0  21.0 2019-09-04 22:34:21  2019-09-05 2019-09-05 22:34:00   \n",
      "2   3.0   12.0  22.0 2019-09-04 22:34:21  2019-09-01 2019-09-01 22:34:00   \n",
      "3 -99.0 -999.0   NaN 2019-09-04 22:34:21  2019-09-01 2019-09-01 22:34:00   \n",
      "\n",
      "          c7  \n",
      "0 2019-09-03  \n",
      "1 2019-09-03  \n",
      "2 2019-09-03  \n",
      "3 2019-09-03  \n"
     ]
    }
   ],
   "source": [
    "### 缺失值的确认 以及 填充,\n",
    "### NaN NULL null 都表示缺失值\n",
    "df.info() ### 判断列是否有NaN数据\n",
    "print df.isnull() ### 返回true/false 表示是否是null.数据多的时候不太常用,可以用df.info()查看是否有null数据\n",
    "### 缺失值删除\n",
    "print df.dropna() ### 删除有缺失值的整行数据---NaN\n",
    "print df.dropna(how = \"all\") ### 整行都是缺失值--空白行才会被删除\n",
    "### 缺失值填充\n",
    "### print df.fillna(0) ### 缺失值都填充为0\n",
    "print df.fillna({\"c1\":-99,\"c2\":-999}) ## 针对不同的列 设置不同的缺失值\n"
   ]
  },
  {
   "cell_type": "code",
   "execution_count": 6,
   "metadata": {},
   "outputs": [
    {
     "data": {
      "text/html": [
       "<div>\n",
       "<style scoped>\n",
       "    .dataframe tbody tr th:only-of-type {\n",
       "        vertical-align: middle;\n",
       "    }\n",
       "\n",
       "    .dataframe tbody tr th {\n",
       "        vertical-align: top;\n",
       "    }\n",
       "\n",
       "    .dataframe thead th {\n",
       "        text-align: right;\n",
       "    }\n",
       "</style>\n",
       "<table border=\"1\" class=\"dataframe\">\n",
       "  <thead>\n",
       "    <tr style=\"text-align: right;\">\n",
       "      <th></th>\n",
       "      <th>c1</th>\n",
       "      <th>c2</th>\n",
       "      <th>c3</th>\n",
       "      <th>c4</th>\n",
       "      <th>c5</th>\n",
       "      <th>c6</th>\n",
       "      <th>c7</th>\n",
       "    </tr>\n",
       "  </thead>\n",
       "  <tbody>\n",
       "    <tr>\n",
       "      <th>0</th>\n",
       "      <td>0.0</td>\n",
       "      <td>10.0</td>\n",
       "      <td>20.0</td>\n",
       "      <td>2019-09-04 22:34:21</td>\n",
       "      <td>2019-09-03</td>\n",
       "      <td>2019-09-03 22:34:00</td>\n",
       "      <td>2019-09-03</td>\n",
       "    </tr>\n",
       "    <tr>\n",
       "      <th>1</th>\n",
       "      <td>1.0</td>\n",
       "      <td>11.0</td>\n",
       "      <td>21.0</td>\n",
       "      <td>2019-09-04 22:34:21</td>\n",
       "      <td>2019-09-05</td>\n",
       "      <td>2019-09-05 22:34:00</td>\n",
       "      <td>2019-09-03</td>\n",
       "    </tr>\n",
       "    <tr>\n",
       "      <th>2</th>\n",
       "      <td>3.0</td>\n",
       "      <td>12.0</td>\n",
       "      <td>22.0</td>\n",
       "      <td>2019-09-04 22:34:21</td>\n",
       "      <td>2019-09-01</td>\n",
       "      <td>2019-09-01 22:34:00</td>\n",
       "      <td>2019-09-03</td>\n",
       "    </tr>\n",
       "    <tr>\n",
       "      <th>3</th>\n",
       "      <td>NaN</td>\n",
       "      <td>NaN</td>\n",
       "      <td>NaN</td>\n",
       "      <td>2019-09-04 22:34:21</td>\n",
       "      <td>2019-09-01</td>\n",
       "      <td>2019-09-01 22:34:00</td>\n",
       "      <td>2019-09-03</td>\n",
       "    </tr>\n",
       "  </tbody>\n",
       "</table>\n",
       "</div>"
      ],
      "text/plain": [
       "    c1    c2    c3                  c4          c5                  c6  \\\n",
       "0  0.0  10.0  20.0 2019-09-04 22:34:21  2019-09-03 2019-09-03 22:34:00   \n",
       "1  1.0  11.0  21.0 2019-09-04 22:34:21  2019-09-05 2019-09-05 22:34:00   \n",
       "2  3.0  12.0  22.0 2019-09-04 22:34:21  2019-09-01 2019-09-01 22:34:00   \n",
       "3  NaN   NaN   NaN 2019-09-04 22:34:21  2019-09-01 2019-09-01 22:34:00   \n",
       "\n",
       "          c7  \n",
       "0 2019-09-03  \n",
       "1 2019-09-03  \n",
       "2 2019-09-03  \n",
       "3 2019-09-03  "
      ]
     },
     "execution_count": 6,
     "metadata": {},
     "output_type": "execute_result"
    }
   ],
   "source": [
    "### 删除重复数据\n",
    "### 默认重复数据仅保留第一次出现的数据\n",
    "df.drop_duplicates() ### 一行数据都重复,才删除多余的数据\n",
    "df.drop_duplicates(subset = \"c2\") ### c2一列重复了,就删除多余的行数据,相当于group by c2\n",
    "### c1 和 c2两列重复了,就删除多余的行数据,相当于group by c1 , c2\n",
    "## keep 选择保留哪些数据 first 保留第一次数据; last 保留最后一次数据 ;False全部删除,不保留任何数据,注意False 写成false是报错的\n",
    "df.drop_duplicates(subset = [\"c1\",\"c2\"],keep = False)\n"
   ]
  },
  {
   "cell_type": "code",
   "execution_count": 7,
   "metadata": {},
   "outputs": [],
   "source": [
    "### 异常值检测和处理\n",
    "### 业务规定指标的正常范围,通过阈值\n",
    "### 是否正态分布,超过3倍标准差就是异常\n",
    "### 绘制箱型图,大于 或者 小于 上下边缘的点称之为异常值\n",
    "### 处理方式  删除、缺失值代替、专门研究异常值出现的原因\n",
    "### 数据筛选--删除、筛选--替换 replace 在后面的章节介绍"
   ]
  },
  {
   "cell_type": "code",
   "execution_count": 8,
   "metadata": {},
   "outputs": [
    {
     "data": {
      "text/html": [
       "<div>\n",
       "<style scoped>\n",
       "    .dataframe tbody tr th:only-of-type {\n",
       "        vertical-align: middle;\n",
       "    }\n",
       "\n",
       "    .dataframe tbody tr th {\n",
       "        vertical-align: top;\n",
       "    }\n",
       "\n",
       "    .dataframe thead th {\n",
       "        text-align: right;\n",
       "    }\n",
       "</style>\n",
       "<table border=\"1\" class=\"dataframe\">\n",
       "  <thead>\n",
       "    <tr style=\"text-align: right;\">\n",
       "      <th></th>\n",
       "      <th>c1</th>\n",
       "      <th>c2</th>\n",
       "      <th>c3</th>\n",
       "      <th>c4</th>\n",
       "      <th>c5</th>\n",
       "      <th>c6</th>\n",
       "      <th>c7</th>\n",
       "    </tr>\n",
       "  </thead>\n",
       "  <tbody>\n",
       "    <tr>\n",
       "      <th>0</th>\n",
       "      <td>0.0</td>\n",
       "      <td>10.0</td>\n",
       "      <td>20.0</td>\n",
       "      <td>2019-09-04 22:34:21</td>\n",
       "      <td>2019-09-03</td>\n",
       "      <td>2019-09-03 22:34:00</td>\n",
       "      <td>2019-09-03</td>\n",
       "    </tr>\n",
       "    <tr>\n",
       "      <th>1</th>\n",
       "      <td>1.0</td>\n",
       "      <td>11.0</td>\n",
       "      <td>21.0</td>\n",
       "      <td>2019-09-04 22:34:21</td>\n",
       "      <td>2019-09-05</td>\n",
       "      <td>2019-09-05 22:34:00</td>\n",
       "      <td>2019-09-03</td>\n",
       "    </tr>\n",
       "    <tr>\n",
       "      <th>2</th>\n",
       "      <td>3.0</td>\n",
       "      <td>12.0</td>\n",
       "      <td>22.0</td>\n",
       "      <td>2019-09-04 22:34:21</td>\n",
       "      <td>2019-09-01</td>\n",
       "      <td>2019-09-01 22:34:00</td>\n",
       "      <td>2019-09-03</td>\n",
       "    </tr>\n",
       "  </tbody>\n",
       "</table>\n",
       "</div>"
      ],
      "text/plain": [
       "    c1    c2    c3                  c4          c5                  c6  \\\n",
       "0  0.0  10.0  20.0 2019-09-04 22:34:21  2019-09-03 2019-09-03 22:34:00   \n",
       "1  1.0  11.0  21.0 2019-09-04 22:34:21  2019-09-05 2019-09-05 22:34:00   \n",
       "2  3.0  12.0  22.0 2019-09-04 22:34:21  2019-09-01 2019-09-01 22:34:00   \n",
       "\n",
       "          c7  \n",
       "0 2019-09-03  \n",
       "1 2019-09-03  \n",
       "2 2019-09-03  "
      ]
     },
     "execution_count": 8,
     "metadata": {},
     "output_type": "execute_result"
    }
   ],
   "source": [
    "### 数据类型 以及数据类型的转换 int float object string datetime unicode\n",
    "df = df.dropna()\n",
    "df[\"c1\"].dtype  \n",
    "df[\"c1\"].astype(\"int64\") ### float64 转换成 int64\n",
    "df"
   ]
  },
  {
   "cell_type": "code",
   "execution_count": 9,
   "metadata": {},
   "outputs": [
    {
     "data": {
      "text/html": [
       "<div>\n",
       "<style scoped>\n",
       "    .dataframe tbody tr th:only-of-type {\n",
       "        vertical-align: middle;\n",
       "    }\n",
       "\n",
       "    .dataframe tbody tr th {\n",
       "        vertical-align: top;\n",
       "    }\n",
       "\n",
       "    .dataframe thead th {\n",
       "        text-align: right;\n",
       "    }\n",
       "</style>\n",
       "<table border=\"1\" class=\"dataframe\">\n",
       "  <thead>\n",
       "    <tr style=\"text-align: right;\">\n",
       "      <th></th>\n",
       "      <th>c2</th>\n",
       "      <th>c3</th>\n",
       "      <th>c4</th>\n",
       "      <th>c5</th>\n",
       "      <th>c6</th>\n",
       "      <th>c7</th>\n",
       "    </tr>\n",
       "    <tr>\n",
       "      <th>c1</th>\n",
       "      <th></th>\n",
       "      <th></th>\n",
       "      <th></th>\n",
       "      <th></th>\n",
       "      <th></th>\n",
       "      <th></th>\n",
       "    </tr>\n",
       "  </thead>\n",
       "  <tbody>\n",
       "    <tr>\n",
       "      <th>0.0</th>\n",
       "      <td>10.0</td>\n",
       "      <td>20.0</td>\n",
       "      <td>2019-09-04 22:34:21</td>\n",
       "      <td>2019-09-03</td>\n",
       "      <td>2019-09-03 22:34:00</td>\n",
       "      <td>2019-09-03</td>\n",
       "    </tr>\n",
       "    <tr>\n",
       "      <th>1.0</th>\n",
       "      <td>11.0</td>\n",
       "      <td>21.0</td>\n",
       "      <td>2019-09-04 22:34:21</td>\n",
       "      <td>2019-09-05</td>\n",
       "      <td>2019-09-05 22:34:00</td>\n",
       "      <td>2019-09-03</td>\n",
       "    </tr>\n",
       "    <tr>\n",
       "      <th>3.0</th>\n",
       "      <td>12.0</td>\n",
       "      <td>22.0</td>\n",
       "      <td>2019-09-04 22:34:21</td>\n",
       "      <td>2019-09-01</td>\n",
       "      <td>2019-09-01 22:34:00</td>\n",
       "      <td>2019-09-03</td>\n",
       "    </tr>\n",
       "  </tbody>\n",
       "</table>\n",
       "</div>"
      ],
      "text/plain": [
       "       c2    c3                  c4          c5                  c6         c7\n",
       "c1                                                                            \n",
       "0.0  10.0  20.0 2019-09-04 22:34:21  2019-09-03 2019-09-03 22:34:00 2019-09-03\n",
       "1.0  11.0  21.0 2019-09-04 22:34:21  2019-09-05 2019-09-05 22:34:00 2019-09-03\n",
       "3.0  12.0  22.0 2019-09-04 22:34:21  2019-09-01 2019-09-01 22:34:00 2019-09-03"
      ]
     },
     "execution_count": 9,
     "metadata": {},
     "output_type": "execute_result"
    }
   ],
   "source": [
    "### 设置索引\n",
    "df.set_index(\"c1\")"
   ]
  },
  {
   "cell_type": "code",
   "execution_count": 10,
   "metadata": {},
   "outputs": [
    {
     "data": {
      "text/html": [
       "<div>\n",
       "<style scoped>\n",
       "    .dataframe tbody tr th:only-of-type {\n",
       "        vertical-align: middle;\n",
       "    }\n",
       "\n",
       "    .dataframe tbody tr th {\n",
       "        vertical-align: top;\n",
       "    }\n",
       "\n",
       "    .dataframe thead th {\n",
       "        text-align: right;\n",
       "    }\n",
       "</style>\n",
       "<table border=\"1\" class=\"dataframe\">\n",
       "  <thead>\n",
       "    <tr style=\"text-align: right;\">\n",
       "      <th></th>\n",
       "      <th>c1</th>\n",
       "      <th>c2</th>\n",
       "      <th>c3</th>\n",
       "      <th>c4</th>\n",
       "      <th>c5</th>\n",
       "      <th>c6</th>\n",
       "      <th>c7</th>\n",
       "    </tr>\n",
       "  </thead>\n",
       "  <tbody>\n",
       "    <tr>\n",
       "      <th>0</th>\n",
       "      <td>0.0</td>\n",
       "      <td>10.0</td>\n",
       "      <td>20.0</td>\n",
       "      <td>2019-09-04 22:34:21</td>\n",
       "      <td>2019-09-03</td>\n",
       "      <td>2019-09-03 22:34:00</td>\n",
       "      <td>2019-09-03</td>\n",
       "    </tr>\n",
       "    <tr>\n",
       "      <th>1</th>\n",
       "      <td>1.0</td>\n",
       "      <td>11.0</td>\n",
       "      <td>21.0</td>\n",
       "      <td>2019-09-04 22:34:21</td>\n",
       "      <td>2019-09-05</td>\n",
       "      <td>2019-09-05 22:34:00</td>\n",
       "      <td>2019-09-03</td>\n",
       "    </tr>\n",
       "    <tr>\n",
       "      <th>2</th>\n",
       "      <td>3.0</td>\n",
       "      <td>12.0</td>\n",
       "      <td>22.0</td>\n",
       "      <td>2019-09-04 22:34:21</td>\n",
       "      <td>2019-09-01</td>\n",
       "      <td>2019-09-01 22:34:00</td>\n",
       "      <td>2019-09-03</td>\n",
       "    </tr>\n",
       "  </tbody>\n",
       "</table>\n",
       "</div>"
      ],
      "text/plain": [
       "    c1    c2    c3                  c4          c5                  c6  \\\n",
       "0  0.0  10.0  20.0 2019-09-04 22:34:21  2019-09-03 2019-09-03 22:34:00   \n",
       "1  1.0  11.0  21.0 2019-09-04 22:34:21  2019-09-05 2019-09-05 22:34:00   \n",
       "2  3.0  12.0  22.0 2019-09-04 22:34:21  2019-09-01 2019-09-01 22:34:00   \n",
       "\n",
       "          c7  \n",
       "0 2019-09-03  \n",
       "1 2019-09-03  \n",
       "2 2019-09-03  "
      ]
     },
     "execution_count": 10,
     "metadata": {},
     "output_type": "execute_result"
    }
   ],
   "source": [
    "df.set_index([\"c1\",\"c2\"]) ### 设置索引\n",
    "### 重置索引 常用于 数据分组和透视表中\n",
    "df.reset_index() ### 取消设置的索引\n",
    "df.reset_index(level = 0) ### 将第0列设置为索引\n",
    "df.reset_index(drop = True) ### 将现在的索引列删除"
   ]
  },
  {
   "cell_type": "code",
   "execution_count": 11,
   "metadata": {},
   "outputs": [
    {
     "data": {
      "text/html": [
       "<div>\n",
       "<style scoped>\n",
       "    .dataframe tbody tr th:only-of-type {\n",
       "        vertical-align: middle;\n",
       "    }\n",
       "\n",
       "    .dataframe tbody tr th {\n",
       "        vertical-align: top;\n",
       "    }\n",
       "\n",
       "    .dataframe thead th {\n",
       "        text-align: right;\n",
       "    }\n",
       "</style>\n",
       "<table border=\"1\" class=\"dataframe\">\n",
       "  <thead>\n",
       "    <tr style=\"text-align: right;\">\n",
       "      <th></th>\n",
       "      <th>cc1</th>\n",
       "      <th>cc2</th>\n",
       "      <th>c3</th>\n",
       "      <th>c4</th>\n",
       "      <th>c5</th>\n",
       "      <th>c6</th>\n",
       "      <th>c7</th>\n",
       "    </tr>\n",
       "  </thead>\n",
       "  <tbody>\n",
       "    <tr>\n",
       "      <th>a</th>\n",
       "      <td>0.0</td>\n",
       "      <td>10.0</td>\n",
       "      <td>20.0</td>\n",
       "      <td>2019-09-04 22:34:21</td>\n",
       "      <td>2019-09-03</td>\n",
       "      <td>2019-09-03 22:34:00</td>\n",
       "      <td>2019-09-03</td>\n",
       "    </tr>\n",
       "    <tr>\n",
       "      <th>b</th>\n",
       "      <td>1.0</td>\n",
       "      <td>11.0</td>\n",
       "      <td>21.0</td>\n",
       "      <td>2019-09-04 22:34:21</td>\n",
       "      <td>2019-09-05</td>\n",
       "      <td>2019-09-05 22:34:00</td>\n",
       "      <td>2019-09-03</td>\n",
       "    </tr>\n",
       "    <tr>\n",
       "      <th>2</th>\n",
       "      <td>3.0</td>\n",
       "      <td>12.0</td>\n",
       "      <td>22.0</td>\n",
       "      <td>2019-09-04 22:34:21</td>\n",
       "      <td>2019-09-01</td>\n",
       "      <td>2019-09-01 22:34:00</td>\n",
       "      <td>2019-09-03</td>\n",
       "    </tr>\n",
       "  </tbody>\n",
       "</table>\n",
       "</div>"
      ],
      "text/plain": [
       "   cc1   cc2    c3                  c4          c5                  c6  \\\n",
       "a  0.0  10.0  20.0 2019-09-04 22:34:21  2019-09-03 2019-09-03 22:34:00   \n",
       "b  1.0  11.0  21.0 2019-09-04 22:34:21  2019-09-05 2019-09-05 22:34:00   \n",
       "2  3.0  12.0  22.0 2019-09-04 22:34:21  2019-09-01 2019-09-01 22:34:00   \n",
       "\n",
       "          c7  \n",
       "a 2019-09-03  \n",
       "b 2019-09-03  \n",
       "2 2019-09-03  "
      ]
     },
     "execution_count": 11,
     "metadata": {},
     "output_type": "execute_result"
    }
   ],
   "source": [
    "df.rename(columns = {\"c1\":\"cc1\",\"c2\":\"cc2\"},index = {0:\"a\",1:\"b\"}) ### 重置列名 和 索引名"
   ]
  },
  {
   "cell_type": "code",
   "execution_count": 12,
   "metadata": {},
   "outputs": [
    {
     "name": "stdout",
     "output_type": "stream",
     "text": [
      "0    0.0\n",
      "1    1.0\n",
      "2    3.0\n",
      "Name: c1, dtype: float64\n",
      "    c1    c2\n",
      "0  0.0  10.0\n",
      "1  1.0  11.0\n",
      "2  3.0  12.0\n"
     ]
    }
   ],
   "source": [
    "### 第6章 数据选择\n",
    "print df[\"c1\"] ### 选择一个列\n",
    "print df[[\"c1\",\"c2\"]] ### 选择若干个列"
   ]
  },
  {
   "cell_type": "code",
   "execution_count": 13,
   "metadata": {},
   "outputs": [
    {
     "name": "stdout",
     "output_type": "stream",
     "text": [
      "c1                      0\n",
      "c2                     10\n",
      "c3                     20\n",
      "c4    2019-09-04 22:34:21\n",
      "c5             2019-09-03\n",
      "c6    2019-09-03 22:34:00\n",
      "c7    2019-09-03 00:00:00\n",
      "Name: 0, dtype: object\n",
      "    c1    c2    c3                  c4          c5                  c6  \\\n",
      "0  0.0  10.0  20.0 2019-09-04 22:34:21  2019-09-03 2019-09-03 22:34:00   \n",
      "2  3.0  12.0  22.0 2019-09-04 22:34:21  2019-09-01 2019-09-01 22:34:00   \n",
      "\n",
      "          c7  \n",
      "0 2019-09-03  \n",
      "2 2019-09-03  \n",
      "    c1    c2    c3                  c4          c5                  c6  \\\n",
      "0  0.0  10.0  20.0 2019-09-04 22:34:21  2019-09-03 2019-09-03 22:34:00   \n",
      "1  1.0  11.0  21.0 2019-09-04 22:34:21  2019-09-05 2019-09-05 22:34:00   \n",
      "2  3.0  12.0  22.0 2019-09-04 22:34:21  2019-09-01 2019-09-01 22:34:00   \n",
      "\n",
      "          c7  \n",
      "0 2019-09-03  \n",
      "1 2019-09-03  \n",
      "2 2019-09-03  \n"
     ]
    }
   ],
   "source": [
    "### 选择某行、若干行\n",
    "print df.iloc[0]  ## 获取第0行\n",
    "print df.iloc[[0,2]] ## 获取第0、2行\n",
    "print df.iloc[0:3] ## 获取第0到3行"
   ]
  },
  {
   "cell_type": "code",
   "execution_count": 14,
   "metadata": {},
   "outputs": [
    {
     "data": {
      "text/html": [
       "<div>\n",
       "<style scoped>\n",
       "    .dataframe tbody tr th:only-of-type {\n",
       "        vertical-align: middle;\n",
       "    }\n",
       "\n",
       "    .dataframe tbody tr th {\n",
       "        vertical-align: top;\n",
       "    }\n",
       "\n",
       "    .dataframe thead th {\n",
       "        text-align: right;\n",
       "    }\n",
       "</style>\n",
       "<table border=\"1\" class=\"dataframe\">\n",
       "  <thead>\n",
       "    <tr style=\"text-align: right;\">\n",
       "      <th></th>\n",
       "      <th>c1</th>\n",
       "      <th>c2</th>\n",
       "    </tr>\n",
       "  </thead>\n",
       "  <tbody>\n",
       "    <tr>\n",
       "      <th>0</th>\n",
       "      <td>0.0</td>\n",
       "      <td>10.0</td>\n",
       "    </tr>\n",
       "    <tr>\n",
       "      <th>1</th>\n",
       "      <td>1.0</td>\n",
       "      <td>11.0</td>\n",
       "    </tr>\n",
       "  </tbody>\n",
       "</table>\n",
       "</div>"
      ],
      "text/plain": [
       "    c1    c2\n",
       "0  0.0  10.0\n",
       "1  1.0  11.0"
      ]
     },
     "execution_count": 14,
     "metadata": {},
     "output_type": "execute_result"
    }
   ],
   "source": [
    "df.iloc[0:2,0:2] ### 根据行列index选择,范围是[)"
   ]
  },
  {
   "cell_type": "code",
   "execution_count": 15,
   "metadata": {},
   "outputs": [
    {
     "name": "stdout",
     "output_type": "stream",
     "text": [
      "    c1    c2    c3                  c4          c5                  c6  \\\n",
      "0  0.0  10.0  20.0 2019-09-04 22:34:21  2019-09-03 2019-09-03 22:34:00   \n",
      "1  1.0  11.0  21.0 2019-09-04 22:34:21  2019-09-05 2019-09-05 22:34:00   \n",
      "2  3.0  12.0  22.0 2019-09-04 22:34:21  2019-09-01 2019-09-01 22:34:00   \n",
      "\n",
      "          c7  \n",
      "0 2019-09-03  \n",
      "1 2019-09-03  \n",
      "2 2019-09-03  \n"
     ]
    },
    {
     "data": {
      "text/html": [
       "<div>\n",
       "<style scoped>\n",
       "    .dataframe tbody tr th:only-of-type {\n",
       "        vertical-align: middle;\n",
       "    }\n",
       "\n",
       "    .dataframe tbody tr th {\n",
       "        vertical-align: top;\n",
       "    }\n",
       "\n",
       "    .dataframe thead th {\n",
       "        text-align: right;\n",
       "    }\n",
       "</style>\n",
       "<table border=\"1\" class=\"dataframe\">\n",
       "  <thead>\n",
       "    <tr style=\"text-align: right;\">\n",
       "      <th></th>\n",
       "      <th>c5</th>\n",
       "      <th>c6</th>\n",
       "    </tr>\n",
       "  </thead>\n",
       "  <tbody>\n",
       "    <tr>\n",
       "      <th>2</th>\n",
       "      <td>2019-09-01</td>\n",
       "      <td>2019-09-01 22:34:00</td>\n",
       "    </tr>\n",
       "  </tbody>\n",
       "</table>\n",
       "</div>"
      ],
      "text/plain": [
       "           c5                  c6\n",
       "2  2019-09-01 2019-09-01 22:34:00"
      ]
     },
     "execution_count": 15,
     "metadata": {},
     "output_type": "execute_result"
    }
   ],
   "source": [
    "print df\n",
    "### 选择满足条件的行\n",
    "df[ (df[\"c2\"] >= 11) & (df[\"c3\"] >= 22) ] ### 注意: ()必须填写,满足c2>=11 and c3 >=22的数据\n",
    "df[ (df[\"c2\"] >= 11) & (df[\"c3\"] >= 22) ][[\"c5\",\"c6\"]] ### 选择某2列"
   ]
  },
  {
   "cell_type": "code",
   "execution_count": 16,
   "metadata": {},
   "outputs": [
    {
     "data": {
      "text/html": [
       "<div>\n",
       "<style scoped>\n",
       "    .dataframe tbody tr th:only-of-type {\n",
       "        vertical-align: middle;\n",
       "    }\n",
       "\n",
       "    .dataframe tbody tr th {\n",
       "        vertical-align: top;\n",
       "    }\n",
       "\n",
       "    .dataframe thead th {\n",
       "        text-align: right;\n",
       "    }\n",
       "</style>\n",
       "<table border=\"1\" class=\"dataframe\">\n",
       "  <thead>\n",
       "    <tr style=\"text-align: right;\">\n",
       "      <th></th>\n",
       "      <th>c1</th>\n",
       "      <th>c2</th>\n",
       "    </tr>\n",
       "  </thead>\n",
       "  <tbody>\n",
       "    <tr>\n",
       "      <th>0</th>\n",
       "      <td>0.0</td>\n",
       "      <td>10.0</td>\n",
       "    </tr>\n",
       "    <tr>\n",
       "      <th>1</th>\n",
       "      <td>1.0</td>\n",
       "      <td>11.0</td>\n",
       "    </tr>\n",
       "    <tr>\n",
       "      <th>2</th>\n",
       "      <td>3.0</td>\n",
       "      <td>12.0</td>\n",
       "    </tr>\n",
       "  </tbody>\n",
       "</table>\n",
       "</div>"
      ],
      "text/plain": [
       "    c1    c2\n",
       "0  0.0  10.0\n",
       "1  1.0  11.0\n",
       "2  3.0  12.0"
      ]
     },
     "execution_count": 16,
     "metadata": {},
     "output_type": "execute_result"
    }
   ],
   "source": [
    "df.loc[0:2,[\"c1\",\"c2\"]]"
   ]
  },
  {
   "cell_type": "code",
   "execution_count": 17,
   "metadata": {},
   "outputs": [],
   "source": [
    "### 第7章 数值操作"
   ]
  },
  {
   "cell_type": "code",
   "execution_count": 18,
   "metadata": {},
   "outputs": [
    {
     "data": {
      "text/html": [
       "<div>\n",
       "<style scoped>\n",
       "    .dataframe tbody tr th:only-of-type {\n",
       "        vertical-align: middle;\n",
       "    }\n",
       "\n",
       "    .dataframe tbody tr th {\n",
       "        vertical-align: top;\n",
       "    }\n",
       "\n",
       "    .dataframe thead th {\n",
       "        text-align: right;\n",
       "    }\n",
       "</style>\n",
       "<table border=\"1\" class=\"dataframe\">\n",
       "  <thead>\n",
       "    <tr style=\"text-align: right;\">\n",
       "      <th></th>\n",
       "      <th>c1</th>\n",
       "      <th>c2</th>\n",
       "      <th>c3</th>\n",
       "      <th>c4</th>\n",
       "      <th>c5</th>\n",
       "      <th>c6</th>\n",
       "      <th>c7</th>\n",
       "    </tr>\n",
       "  </thead>\n",
       "  <tbody>\n",
       "    <tr>\n",
       "      <th>0</th>\n",
       "      <td>0.0</td>\n",
       "      <td>10.0</td>\n",
       "      <td>20.0</td>\n",
       "      <td>2019-09-04 22:34:21</td>\n",
       "      <td>2019-09-03</td>\n",
       "      <td>2019-09-03 22:34:00</td>\n",
       "      <td>2019-09-03</td>\n",
       "    </tr>\n",
       "    <tr>\n",
       "      <th>1</th>\n",
       "      <td>1.0</td>\n",
       "      <td>11.0</td>\n",
       "      <td>21.0</td>\n",
       "      <td>2019-09-04 22:34:21</td>\n",
       "      <td>2019-09-05</td>\n",
       "      <td>2019-09-05 22:34:00</td>\n",
       "      <td>2019-09-03</td>\n",
       "    </tr>\n",
       "    <tr>\n",
       "      <th>2</th>\n",
       "      <td>3.0</td>\n",
       "      <td>12.0</td>\n",
       "      <td>22.0</td>\n",
       "      <td>2019-09-04 22:34:21</td>\n",
       "      <td>2019-09-01</td>\n",
       "      <td>2019-09-01 22:34:00</td>\n",
       "      <td>2019-09-03</td>\n",
       "    </tr>\n",
       "  </tbody>\n",
       "</table>\n",
       "</div>"
      ],
      "text/plain": [
       "    c1    c2    c3                  c4          c5                  c6  \\\n",
       "0  0.0  10.0  20.0 2019-09-04 22:34:21  2019-09-03 2019-09-03 22:34:00   \n",
       "1  1.0  11.0  21.0 2019-09-04 22:34:21  2019-09-05 2019-09-05 22:34:00   \n",
       "2  3.0  12.0  22.0 2019-09-04 22:34:21  2019-09-01 2019-09-01 22:34:00   \n",
       "\n",
       "          c7  \n",
       "0 2019-09-03  \n",
       "1 2019-09-03  \n",
       "2 2019-09-03  "
      ]
     },
     "execution_count": 18,
     "metadata": {},
     "output_type": "execute_result"
    }
   ],
   "source": [
    "df"
   ]
  },
  {
   "cell_type": "code",
   "execution_count": 19,
   "metadata": {},
   "outputs": [
    {
     "data": {
      "text/html": [
       "<div>\n",
       "<style scoped>\n",
       "    .dataframe tbody tr th:only-of-type {\n",
       "        vertical-align: middle;\n",
       "    }\n",
       "\n",
       "    .dataframe tbody tr th {\n",
       "        vertical-align: top;\n",
       "    }\n",
       "\n",
       "    .dataframe thead th {\n",
       "        text-align: right;\n",
       "    }\n",
       "</style>\n",
       "<table border=\"1\" class=\"dataframe\">\n",
       "  <thead>\n",
       "    <tr style=\"text-align: right;\">\n",
       "      <th></th>\n",
       "      <th>c1</th>\n",
       "      <th>c2</th>\n",
       "      <th>c3</th>\n",
       "      <th>c4</th>\n",
       "      <th>c5</th>\n",
       "      <th>c6</th>\n",
       "      <th>c7</th>\n",
       "    </tr>\n",
       "  </thead>\n",
       "  <tbody>\n",
       "    <tr>\n",
       "      <th>0</th>\n",
       "      <td>0.0</td>\n",
       "      <td>10.0</td>\n",
       "      <td>20.0</td>\n",
       "      <td>2019-09-04 22:34:21</td>\n",
       "      <td>2019-09-03</td>\n",
       "      <td>2019-09-03 22:34:00</td>\n",
       "      <td>2019-09-03</td>\n",
       "    </tr>\n",
       "    <tr>\n",
       "      <th>1</th>\n",
       "      <td>1.0</td>\n",
       "      <td>11.0</td>\n",
       "      <td>21.0</td>\n",
       "      <td>2019-09-04 22:34:21</td>\n",
       "      <td>2019-09-05</td>\n",
       "      <td>2019-09-05 22:34:00</td>\n",
       "      <td>2019-09-03</td>\n",
       "    </tr>\n",
       "    <tr>\n",
       "      <th>2</th>\n",
       "      <td>3.0</td>\n",
       "      <td>12.0</td>\n",
       "      <td>22.0</td>\n",
       "      <td>2019-09-04 22:34:21</td>\n",
       "      <td>2019-09-01</td>\n",
       "      <td>2019-09-01 22:34:00</td>\n",
       "      <td>2019-09-03</td>\n",
       "    </tr>\n",
       "  </tbody>\n",
       "</table>\n",
       "</div>"
      ],
      "text/plain": [
       "    c1    c2    c3                  c4          c5                  c6  \\\n",
       "0  0.0  10.0  20.0 2019-09-04 22:34:21  2019-09-03 2019-09-03 22:34:00   \n",
       "1  1.0  11.0  21.0 2019-09-04 22:34:21  2019-09-05 2019-09-05 22:34:00   \n",
       "2  3.0  12.0  22.0 2019-09-04 22:34:21  2019-09-01 2019-09-01 22:34:00   \n",
       "\n",
       "          c7  \n",
       "0 2019-09-03  \n",
       "1 2019-09-03  \n",
       "2 2019-09-03  "
      ]
     },
     "execution_count": 19,
     "metadata": {},
     "output_type": "execute_result"
    }
   ],
   "source": [
    "### 数值替换 replace\n",
    "df.replace(10.0,\"aa\") ##所有列的数值,都要替换   数字可以替换成字符串、所有的10都替换成aa\n",
    "df[\"c2\"].replace(10.0,\"aa\") ###只是替换某一列的值\n",
    "df[\"c2\"].replace(np.NaN,0) ###相当于缺失值处理\n",
    "df[\"c2\"].replace([10,11],\"aa\") ### 将多个值 都替换成一个值\n",
    "df[\"c2\"].replace({10:\"aa\",11:\"bb\"}) ### 替换一组映射---map字典形式的参数\n",
    "df"
   ]
  },
  {
   "cell_type": "code",
   "execution_count": 20,
   "metadata": {},
   "outputs": [
    {
     "data": {
      "text/html": [
       "<div>\n",
       "<style scoped>\n",
       "    .dataframe tbody tr th:only-of-type {\n",
       "        vertical-align: middle;\n",
       "    }\n",
       "\n",
       "    .dataframe tbody tr th {\n",
       "        vertical-align: top;\n",
       "    }\n",
       "\n",
       "    .dataframe thead th {\n",
       "        text-align: right;\n",
       "    }\n",
       "</style>\n",
       "<table border=\"1\" class=\"dataframe\">\n",
       "  <thead>\n",
       "    <tr style=\"text-align: right;\">\n",
       "      <th></th>\n",
       "      <th>c1</th>\n",
       "      <th>c2</th>\n",
       "      <th>c3</th>\n",
       "      <th>c4</th>\n",
       "      <th>c5</th>\n",
       "      <th>c6</th>\n",
       "      <th>c7</th>\n",
       "    </tr>\n",
       "  </thead>\n",
       "  <tbody>\n",
       "    <tr>\n",
       "      <th>1</th>\n",
       "      <td>1.0</td>\n",
       "      <td>11.0</td>\n",
       "      <td>21.0</td>\n",
       "      <td>20190904 22:34:21</td>\n",
       "      <td>2019-09-05</td>\n",
       "      <td>20190905 22:34:00</td>\n",
       "      <td>20190903</td>\n",
       "    </tr>\n",
       "    <tr>\n",
       "      <th>0</th>\n",
       "      <td>0.0</td>\n",
       "      <td>10.0</td>\n",
       "      <td>20.0</td>\n",
       "      <td>20190904 22:34:21</td>\n",
       "      <td>2019-09-03</td>\n",
       "      <td>20190903 22:34:00</td>\n",
       "      <td>20190903</td>\n",
       "    </tr>\n",
       "    <tr>\n",
       "      <th>3</th>\n",
       "      <td>NaN</td>\n",
       "      <td>NaN</td>\n",
       "      <td>NaN</td>\n",
       "      <td>20190904 22:34:21</td>\n",
       "      <td>2019-09-01</td>\n",
       "      <td>20190901 22:34:00</td>\n",
       "      <td>20190903</td>\n",
       "    </tr>\n",
       "    <tr>\n",
       "      <th>2</th>\n",
       "      <td>3.0</td>\n",
       "      <td>12.0</td>\n",
       "      <td>22.0</td>\n",
       "      <td>20190904 22:34:21</td>\n",
       "      <td>2019-09-01</td>\n",
       "      <td>20190901 22:34:00</td>\n",
       "      <td>20190903</td>\n",
       "    </tr>\n",
       "  </tbody>\n",
       "</table>\n",
       "</div>"
      ],
      "text/plain": [
       "    c1    c2    c3                 c4          c5                 c6        c7\n",
       "1  1.0  11.0  21.0  20190904 22:34:21  2019-09-05  20190905 22:34:00  20190903\n",
       "0  0.0  10.0  20.0  20190904 22:34:21  2019-09-03  20190903 22:34:00  20190903\n",
       "3  NaN   NaN   NaN  20190904 22:34:21  2019-09-01  20190901 22:34:00  20190903\n",
       "2  3.0  12.0  22.0  20190904 22:34:21  2019-09-01  20190901 22:34:00  20190903"
      ]
     },
     "execution_count": 20,
     "metadata": {},
     "output_type": "execute_result"
    }
   ],
   "source": [
    "### 数据排序 sort_values \n",
    "### na_position 对NaN数据的位置进行排序,默认是last,其他值first\n",
    "df = load_data('/Users/maming/Downloads/test/dataframe_2_data_deal.txt')\n",
    "df.sort_values(by = \"c3\",ascending = False,na_position = \"first\") ### 倒序\n",
    "df.sort_values(by = [\"c6\",\"c3\"],ascending = [False,True],na_position = \"first\") ### 多列进行排序"
   ]
  },
  {
   "cell_type": "code",
   "execution_count": 21,
   "metadata": {},
   "outputs": [
    {
     "data": {
      "text/html": [
       "<div>\n",
       "<style scoped>\n",
       "    .dataframe tbody tr th:only-of-type {\n",
       "        vertical-align: middle;\n",
       "    }\n",
       "\n",
       "    .dataframe tbody tr th {\n",
       "        vertical-align: top;\n",
       "    }\n",
       "\n",
       "    .dataframe thead th {\n",
       "        text-align: right;\n",
       "    }\n",
       "</style>\n",
       "<table border=\"1\" class=\"dataframe\">\n",
       "  <thead>\n",
       "    <tr style=\"text-align: right;\">\n",
       "      <th></th>\n",
       "      <th>c1</th>\n",
       "      <th>c2</th>\n",
       "      <th>c3</th>\n",
       "      <th>c4</th>\n",
       "      <th>c5</th>\n",
       "      <th>c6</th>\n",
       "      <th>c7</th>\n",
       "    </tr>\n",
       "  </thead>\n",
       "  <tbody>\n",
       "    <tr>\n",
       "      <th>1</th>\n",
       "      <td>1.0</td>\n",
       "      <td>11.0</td>\n",
       "      <td>21.0</td>\n",
       "      <td>20190904 22:34:21</td>\n",
       "      <td>2019-09-05</td>\n",
       "      <td>20190905 22:34:00</td>\n",
       "      <td>20190903</td>\n",
       "    </tr>\n",
       "    <tr>\n",
       "      <th>2</th>\n",
       "      <td>3.0</td>\n",
       "      <td>12.0</td>\n",
       "      <td>22.0</td>\n",
       "      <td>20190904 22:34:21</td>\n",
       "      <td>2019-09-01</td>\n",
       "      <td>20190901 22:34:00</td>\n",
       "      <td>20190903</td>\n",
       "    </tr>\n",
       "  </tbody>\n",
       "</table>\n",
       "</div>"
      ],
      "text/plain": [
       "    c1    c2    c3                 c4          c5                 c6        c7\n",
       "1  1.0  11.0  21.0  20190904 22:34:21  2019-09-05  20190905 22:34:00  20190903\n",
       "2  3.0  12.0  22.0  20190904 22:34:21  2019-09-01  20190901 22:34:00  20190903"
      ]
     },
     "execution_count": 21,
     "metadata": {},
     "output_type": "execute_result"
    }
   ],
   "source": [
    "### 数值删除\n",
    "### 删除列\n",
    "## df.drop(\"c2\",1) ### 1表示删除列,0表示删除行\n",
    "df.drop([\"c2\",\"c3\"],axis = 1) ### 1表示删除列,0表示删除行\n",
    "df.drop(columns = [\"c4\",\"c5\"]) ### 或者columns参数写入要删除的列,这样就不用写 axis = 1\n",
    "\n",
    "### 删除行\n",
    "df.drop([0,1],axis = 0) ### 输入行号\n",
    "df.drop(index = [1,2])\n",
    "\n",
    "### 删除满足条件的行--保留条件为true的数据\n",
    "df[df[\"c2\"] > 10]"
   ]
  },
  {
   "cell_type": "code",
   "execution_count": 22,
   "metadata": {},
   "outputs": [
    {
     "name": "stdout",
     "output_type": "stream",
     "text": [
      "20190901 22:34:00    2\n",
      "20190905 22:34:00    1\n",
      "20190903 22:34:00    1\n",
      "Name: c6, dtype: int64\n",
      "20190901 22:34:00    0.50\n",
      "20190905 22:34:00    0.25\n",
      "20190903 22:34:00    0.25\n",
      "Name: c6, dtype: float64\n",
      "20190903 22:34:00    0.25\n",
      "20190901 22:34:00    0.50\n",
      "20190905 22:34:00    0.25\n",
      "Name: c6, dtype: float64\n"
     ]
    }
   ],
   "source": [
    "### 数值计数 value_counts \n",
    "print df[\"c6\"].value_counts() ### 计算某一个列,每一个值出现的次数\n",
    "print df[\"c6\"].value_counts(normalize = True) ### 转换成占比\n",
    "print df[\"c6\"].value_counts(normalize = True,sort = False) ### 转换成频率,并且不需要按照占比排序"
   ]
  },
  {
   "cell_type": "code",
   "execution_count": 23,
   "metadata": {},
   "outputs": [
    {
     "data": {
      "text/plain": [
       "array([u'20190903 22:34:00', u'20190905 22:34:00', u'20190901 22:34:00'],\n",
       "      dtype=object)"
      ]
     },
     "execution_count": 23,
     "metadata": {},
     "output_type": "execute_result"
    }
   ],
   "source": [
    "### 某列的唯一值\n",
    "df[\"c6\"].unique()"
   ]
  },
  {
   "cell_type": "code",
   "execution_count": 24,
   "metadata": {},
   "outputs": [
    {
     "name": "stdout",
     "output_type": "stream",
     "text": [
      "0     True\n",
      "1     True\n",
      "2    False\n",
      "3    False\n",
      "Name: c3, dtype: bool\n",
      "      c1     c2     c3     c4     c5     c6     c7\n",
      "0  False  False   True  False  False  False  False\n",
      "1  False  False   True  False  False  False  False\n",
      "2  False  False  False  False  False  False  False\n",
      "3  False  False  False  False  False  False  False\n"
     ]
    },
    {
     "data": {
      "text/html": [
       "<div>\n",
       "<style scoped>\n",
       "    .dataframe tbody tr th:only-of-type {\n",
       "        vertical-align: middle;\n",
       "    }\n",
       "\n",
       "    .dataframe tbody tr th {\n",
       "        vertical-align: top;\n",
       "    }\n",
       "\n",
       "    .dataframe thead th {\n",
       "        text-align: right;\n",
       "    }\n",
       "</style>\n",
       "<table border=\"1\" class=\"dataframe\">\n",
       "  <thead>\n",
       "    <tr style=\"text-align: right;\">\n",
       "      <th></th>\n",
       "      <th>c1</th>\n",
       "      <th>c2</th>\n",
       "      <th>c3</th>\n",
       "      <th>c4</th>\n",
       "      <th>c5</th>\n",
       "      <th>c6</th>\n",
       "      <th>c7</th>\n",
       "    </tr>\n",
       "  </thead>\n",
       "  <tbody>\n",
       "    <tr>\n",
       "      <th>0</th>\n",
       "      <td>NaN</td>\n",
       "      <td>NaN</td>\n",
       "      <td>20.0</td>\n",
       "      <td>NaN</td>\n",
       "      <td>NaN</td>\n",
       "      <td>NaN</td>\n",
       "      <td>NaN</td>\n",
       "    </tr>\n",
       "    <tr>\n",
       "      <th>1</th>\n",
       "      <td>NaN</td>\n",
       "      <td>NaN</td>\n",
       "      <td>21.0</td>\n",
       "      <td>NaN</td>\n",
       "      <td>NaN</td>\n",
       "      <td>NaN</td>\n",
       "      <td>NaN</td>\n",
       "    </tr>\n",
       "    <tr>\n",
       "      <th>2</th>\n",
       "      <td>NaN</td>\n",
       "      <td>NaN</td>\n",
       "      <td>NaN</td>\n",
       "      <td>NaN</td>\n",
       "      <td>NaN</td>\n",
       "      <td>NaN</td>\n",
       "      <td>NaN</td>\n",
       "    </tr>\n",
       "    <tr>\n",
       "      <th>3</th>\n",
       "      <td>NaN</td>\n",
       "      <td>NaN</td>\n",
       "      <td>NaN</td>\n",
       "      <td>NaN</td>\n",
       "      <td>NaN</td>\n",
       "      <td>NaN</td>\n",
       "      <td>NaN</td>\n",
       "    </tr>\n",
       "  </tbody>\n",
       "</table>\n",
       "</div>"
      ],
      "text/plain": [
       "   c1  c2    c3   c4   c5   c6  c7\n",
       "0 NaN NaN  20.0  NaN  NaN  NaN NaN\n",
       "1 NaN NaN  21.0  NaN  NaN  NaN NaN\n",
       "2 NaN NaN   NaN  NaN  NaN  NaN NaN\n",
       "3 NaN NaN   NaN  NaN  NaN  NaN NaN"
      ]
     },
     "execution_count": 24,
     "metadata": {},
     "output_type": "execute_result"
    }
   ],
   "source": [
    "### 数值查找,相当于contain,显示该数值是否在该表存在,或者该列存在\n",
    "print df[\"c3\"].isin([20,21])\n",
    "print df.isin([20,21])\n",
    "df[df[\"c3\"].isin([20,21])] ### 仅保留c3列包含20和21值的数据\n",
    "df[df.isin([20,21])] ## 这个无法过滤数据，只能约束某个列的基础上才能过滤数据\n"
   ]
  },
  {
   "cell_type": "code",
   "execution_count": 25,
   "metadata": {},
   "outputs": [
    {
     "data": {
      "text/html": [
       "<div>\n",
       "<style scoped>\n",
       "    .dataframe tbody tr th:only-of-type {\n",
       "        vertical-align: middle;\n",
       "    }\n",
       "\n",
       "    .dataframe tbody tr th {\n",
       "        vertical-align: top;\n",
       "    }\n",
       "\n",
       "    .dataframe thead th {\n",
       "        text-align: right;\n",
       "    }\n",
       "</style>\n",
       "<table border=\"1\" class=\"dataframe\">\n",
       "  <thead>\n",
       "    <tr style=\"text-align: right;\">\n",
       "      <th></th>\n",
       "      <th>c1</th>\n",
       "      <th>c2</th>\n",
       "      <th>c3</th>\n",
       "      <th>c4</th>\n",
       "      <th>c5</th>\n",
       "      <th>c6</th>\n",
       "      <th>c7</th>\n",
       "      <th>new_column</th>\n",
       "    </tr>\n",
       "  </thead>\n",
       "  <tbody>\n",
       "    <tr>\n",
       "      <th>0</th>\n",
       "      <td>0.0</td>\n",
       "      <td>10.0</td>\n",
       "      <td>20.0</td>\n",
       "      <td>20190904 22:34:21</td>\n",
       "      <td>2019-09-03</td>\n",
       "      <td>20190903 22:34:00</td>\n",
       "      <td>20190903</td>\n",
       "      <td>40.0</td>\n",
       "    </tr>\n",
       "    <tr>\n",
       "      <th>1</th>\n",
       "      <td>1.0</td>\n",
       "      <td>11.0</td>\n",
       "      <td>21.0</td>\n",
       "      <td>20190904 22:34:21</td>\n",
       "      <td>2019-09-05</td>\n",
       "      <td>20190905 22:34:00</td>\n",
       "      <td>20190903</td>\n",
       "      <td>42.0</td>\n",
       "    </tr>\n",
       "    <tr>\n",
       "      <th>2</th>\n",
       "      <td>3.0</td>\n",
       "      <td>12.0</td>\n",
       "      <td>22.0</td>\n",
       "      <td>20190904 22:34:21</td>\n",
       "      <td>2019-09-01</td>\n",
       "      <td>20190901 22:34:00</td>\n",
       "      <td>20190903</td>\n",
       "      <td>44.0</td>\n",
       "    </tr>\n",
       "    <tr>\n",
       "      <th>3</th>\n",
       "      <td>NaN</td>\n",
       "      <td>NaN</td>\n",
       "      <td>NaN</td>\n",
       "      <td>20190904 22:34:21</td>\n",
       "      <td>2019-09-01</td>\n",
       "      <td>20190901 22:34:00</td>\n",
       "      <td>20190903</td>\n",
       "      <td>NaN</td>\n",
       "    </tr>\n",
       "  </tbody>\n",
       "</table>\n",
       "</div>"
      ],
      "text/plain": [
       "    c1    c2    c3                 c4          c5                 c6  \\\n",
       "0  0.0  10.0  20.0  20190904 22:34:21  2019-09-03  20190903 22:34:00   \n",
       "1  1.0  11.0  21.0  20190904 22:34:21  2019-09-05  20190905 22:34:00   \n",
       "2  3.0  12.0  22.0  20190904 22:34:21  2019-09-01  20190901 22:34:00   \n",
       "3  NaN   NaN   NaN  20190904 22:34:21  2019-09-01  20190901 22:34:00   \n",
       "\n",
       "         c7  new_column  \n",
       "0  20190903        40.0  \n",
       "1  20190903        42.0  \n",
       "2  20190903        44.0  \n",
       "3  20190903         NaN  "
      ]
     },
     "execution_count": 25,
     "metadata": {},
     "output_type": "execute_result"
    }
   ],
   "source": [
    "### 无法插入新行,但是可以插入新列\n",
    "df[\"new_column\"] = df[\"c3\"] * 2\n",
    "df"
   ]
  },
  {
   "cell_type": "code",
   "execution_count": 26,
   "metadata": {},
   "outputs": [
    {
     "data": {
      "text/html": [
       "<div>\n",
       "<style scoped>\n",
       "    .dataframe tbody tr th:only-of-type {\n",
       "        vertical-align: middle;\n",
       "    }\n",
       "\n",
       "    .dataframe tbody tr th {\n",
       "        vertical-align: top;\n",
       "    }\n",
       "\n",
       "    .dataframe thead th {\n",
       "        text-align: right;\n",
       "    }\n",
       "</style>\n",
       "<table border=\"1\" class=\"dataframe\">\n",
       "  <thead>\n",
       "    <tr style=\"text-align: right;\">\n",
       "      <th></th>\n",
       "      <th>0</th>\n",
       "      <th>1</th>\n",
       "      <th>2</th>\n",
       "      <th>3</th>\n",
       "    </tr>\n",
       "  </thead>\n",
       "  <tbody>\n",
       "    <tr>\n",
       "      <th>c1</th>\n",
       "      <td>0</td>\n",
       "      <td>1</td>\n",
       "      <td>3</td>\n",
       "      <td>NaN</td>\n",
       "    </tr>\n",
       "    <tr>\n",
       "      <th>c2</th>\n",
       "      <td>10</td>\n",
       "      <td>11</td>\n",
       "      <td>12</td>\n",
       "      <td>NaN</td>\n",
       "    </tr>\n",
       "    <tr>\n",
       "      <th>c3</th>\n",
       "      <td>20</td>\n",
       "      <td>21</td>\n",
       "      <td>22</td>\n",
       "      <td>NaN</td>\n",
       "    </tr>\n",
       "    <tr>\n",
       "      <th>c4</th>\n",
       "      <td>20190904 22:34:21</td>\n",
       "      <td>20190904 22:34:21</td>\n",
       "      <td>20190904 22:34:21</td>\n",
       "      <td>20190904 22:34:21</td>\n",
       "    </tr>\n",
       "    <tr>\n",
       "      <th>c5</th>\n",
       "      <td>2019-09-03</td>\n",
       "      <td>2019-09-05</td>\n",
       "      <td>2019-09-01</td>\n",
       "      <td>2019-09-01</td>\n",
       "    </tr>\n",
       "    <tr>\n",
       "      <th>c6</th>\n",
       "      <td>20190903 22:34:00</td>\n",
       "      <td>20190905 22:34:00</td>\n",
       "      <td>20190901 22:34:00</td>\n",
       "      <td>20190901 22:34:00</td>\n",
       "    </tr>\n",
       "    <tr>\n",
       "      <th>c7</th>\n",
       "      <td>20190903</td>\n",
       "      <td>20190903</td>\n",
       "      <td>20190903</td>\n",
       "      <td>20190903</td>\n",
       "    </tr>\n",
       "    <tr>\n",
       "      <th>new_column</th>\n",
       "      <td>40</td>\n",
       "      <td>42</td>\n",
       "      <td>44</td>\n",
       "      <td>NaN</td>\n",
       "    </tr>\n",
       "  </tbody>\n",
       "</table>\n",
       "</div>"
      ],
      "text/plain": [
       "                            0                  1                  2  \\\n",
       "c1                          0                  1                  3   \n",
       "c2                         10                 11                 12   \n",
       "c3                         20                 21                 22   \n",
       "c4          20190904 22:34:21  20190904 22:34:21  20190904 22:34:21   \n",
       "c5                 2019-09-03         2019-09-05         2019-09-01   \n",
       "c6          20190903 22:34:00  20190905 22:34:00  20190901 22:34:00   \n",
       "c7                   20190903           20190903           20190903   \n",
       "new_column                 40                 42                 44   \n",
       "\n",
       "                            3  \n",
       "c1                        NaN  \n",
       "c2                        NaN  \n",
       "c3                        NaN  \n",
       "c4          20190904 22:34:21  \n",
       "c5                 2019-09-01  \n",
       "c6          20190901 22:34:00  \n",
       "c7                   20190903  \n",
       "new_column                NaN  "
      ]
     },
     "execution_count": 26,
     "metadata": {},
     "output_type": "execute_result"
    }
   ],
   "source": [
    "### 数据转置\n",
    "df.T"
   ]
  },
  {
   "cell_type": "code",
   "execution_count": 27,
   "metadata": {},
   "outputs": [
    {
     "name": "stdout",
     "output_type": "stream",
     "text": [
      "    c1    c2    c3                 c4          c5                 c6  \\\n",
      "0  0.0  10.0  20.0  20190904 22:34:21  2019-09-03  20190903 22:34:00   \n",
      "1  1.0  11.0  21.0  20190904 22:34:21  2019-09-05  20190905 22:34:00   \n",
      "2  3.0  12.0  22.0  20190904 22:34:21  2019-09-01  20190901 22:34:00   \n",
      "\n",
      "         c7  new_column  \n",
      "0  20190903        40.0  \n",
      "1  20190903        42.0  \n",
      "2  20190903        44.0  \n",
      "0    11.0\n",
      "1    12.0\n",
      "2    13.0\n",
      "Name: c2, dtype: float64\n",
      "    c1    c2    c3  new_column\n",
      "0  1.0  11.0  21.0        41.0\n",
      "1  2.0  12.0  22.0        43.0\n",
      "2  4.0  13.0  23.0        45.0\n"
     ]
    }
   ],
   "source": [
    "### apply 与 applymap函数\n",
    "df = df.dropna()\n",
    "print df\n",
    "\n",
    "print df[\"c2\"].apply(lambda x:x+1) ### apply针对某一列/某一行的数据,做数据转换\n",
    "df = df.drop([\"c4\",\"c5\",\"c6\",\"c7\"],axis = 1)\n",
    "df\n",
    "print df.applymap(lambda x:x+1) ### applymap针对df中所有的数据进行转换"
   ]
  },
  {
   "cell_type": "code",
   "execution_count": 28,
   "metadata": {},
   "outputs": [
    {
     "data": {
      "text/plain": [
       "0    1.0\n",
       "1    2.0\n",
       "2    3.0\n",
       "Name: c2, dtype: float64"
      ]
     },
     "execution_count": 28,
     "metadata": {},
     "output_type": "execute_result"
    }
   ],
   "source": [
    "### rank的method = min,max,first,average\n",
    "df[\"c2\"].rank(method = \"average\")"
   ]
  },
  {
   "cell_type": "code",
   "execution_count": 29,
   "metadata": {},
   "outputs": [
    {
     "name": "stdout",
     "output_type": "stream",
     "text": [
      "[(18, 25], (18, 25], (18, 25], (25, 35], (18, 25], ..., (35, 60], (25, 35], (60, 100], (35, 60], (25, 35]]\n",
      "Length: 11\n",
      "Categories (4, interval[int64]): [(18, 25] < (25, 35] < (35, 60] < (60, 100]]\n",
      "[0 0 0 1 0 0 2 1 3 2 1]\n"
     ]
    }
   ],
   "source": [
    "### 区间切分bin---cut 与 pcut\n",
    "### 先讲不与dataframe关联的知识\n",
    "ages = [20,22,25,27,21,23,37,31,61,45,32]\n",
    "bins = [18,25,35,60,100]\n",
    "cats = pd.cut(ages,bins)\n",
    "print(cats)\n",
    "###输出内容是对ages每一个元素进行分组,分组到bins区间中\n",
    "### Length: 11 说明ages一共11个元素\n",
    "### bins5个元素,其实定义了四个区间(18, 25] < (25, 35] < (35, 60] < (60, 100]\n",
    "### 第一行的结果表示每一个age最后被划分到哪个区间\n",
    "### 返回的是Categories对象。\n",
    "print cats.codes  ### [0 0 0 1 0 0 2 1 3 2 1] 可以将区间编码,打印编码会更清晰"
   ]
  },
  {
   "cell_type": "code",
   "execution_count": 30,
   "metadata": {},
   "outputs": [
    {
     "name": "stdout",
     "output_type": "stream",
     "text": [
      "[Youth, Youth, Youth, YoungAdult, Youth, ..., MiddleAged, YoungAdult, Senior, MiddleAged, YoungAdult]\n",
      "Length: 11\n",
      "Categories (4, object): [Youth < YoungAdult < MiddleAged < Senior]\n",
      "[0 0 0 1 0 0 2 1 3 2 1]\n"
     ]
    }
   ],
   "source": [
    "### 可以对区间设置别名\n",
    "group_names = ['Youth','YoungAdult','MiddleAged','Senior']\n",
    "cats = pd.cut(ages,bins,labels = group_names) ### 可以对区间设置别名\n",
    "print(cats)\n",
    "print cats.codes"
   ]
  },
  {
   "cell_type": "code",
   "execution_count": 31,
   "metadata": {},
   "outputs": [
    {
     "name": "stdout",
     "output_type": "stream",
     "text": [
      "0    5\n",
      "1    3\n",
      "2    2\n",
      "3    1\n",
      "dtype: int64\n",
      "Int64Index([0, 1, 2, 3], dtype='int64')\n",
      "[5 3 2 1]\n"
     ]
    }
   ],
   "source": [
    "### 可以统计每一个分布 对应的 元素数量,用于直方图等数据\n",
    "type(pd.value_counts(cats.codes) ) ## 输出 Series\n",
    "print pd.value_counts(cats.codes)\n",
    "print pd.value_counts(cats.codes).index\n",
    "print pd.value_counts(cats.codes).values"
   ]
  },
  {
   "cell_type": "code",
   "execution_count": 32,
   "metadata": {},
   "outputs": [
    {
     "name": "stdout",
     "output_type": "stream",
     "text": [
      "[(19.959, 30.25], (19.959, 30.25], (19.959, 30.25], (19.959, 30.25], (19.959, 30.25], ..., (30.25, 40.5], (30.25, 40.5], (50.75, 61.0], (40.5, 50.75], (30.25, 40.5]]\n",
      "Length: 11\n",
      "Categories (4, interval[float64]): [(19.959, 30.25] < (30.25, 40.5] < (40.5, 50.75] < (50.75, 61.0]]\n",
      "[0 0 0 0 0 0 1 1 3 2 1]\n"
     ]
    }
   ],
   "source": [
    "### 按照max min 对数据分成n等分,但不保证n等分的数据大小是相同的\n",
    "cats = pd.cut(ages,4)\n",
    "print(cats)\n",
    "print cats.codes"
   ]
  },
  {
   "cell_type": "code",
   "execution_count": 33,
   "metadata": {},
   "outputs": [
    {
     "name": "stdout",
     "output_type": "stream",
     "text": [
      "[(0.731, 3.631], (0.731, 3.631], (0.027, 0.731], (-0.674, 0.027], (-3.338, -0.674], ..., (0.731, 3.631], (0.731, 3.631], (-3.338, -0.674], (0.027, 0.731], (-3.338, -0.674]]\n",
      "Length: 1000\n",
      "Categories (4, interval[float64]): [(-3.338, -0.674] < (-0.674, 0.027] < (0.027, 0.731] < (0.731, 3.631]]\n"
     ]
    },
    {
     "data": {
      "text/plain": [
       "(0.731, 3.631]      250\n",
       "(0.027, 0.731]      250\n",
       "(-0.674, 0.027]     250\n",
       "(-3.338, -0.674]    250\n",
       "dtype: int64"
      ]
     },
     "execution_count": 33,
     "metadata": {},
     "output_type": "execute_result"
    }
   ],
   "source": [
    "###qcut保证等长的拆分,因为他是用分位数进行分割的\n",
    "data = np.random.randn(1000)  # 正态分布\n",
    "cats = pd.qcut(data,4)       # 按四分位数进行切割\n",
    "print(cats)\n",
    "pd.value_counts(cats)"
   ]
  },
  {
   "cell_type": "code",
   "execution_count": 34,
   "metadata": {},
   "outputs": [
    {
     "name": "stdout",
     "output_type": "stream",
     "text": [
      "[(0.0103, 1.229], (-1.288, 0.0103], (-1.288, 0.0103], (-1.288, 0.0103], (0.0103, 1.229], ..., (-1.288, 0.0103], (-3.146, -1.288], (-1.288, 0.0103], (-1.288, 0.0103], (-1.288, 0.0103]]\n",
      "Length: 1000\n",
      "Categories (4, interval[float64]): [(-3.146, -1.288] < (-1.288, 0.0103] < (0.0103, 1.229] < (1.229, 3.131]]\n"
     ]
    },
    {
     "data": {
      "text/plain": [
       "(-3.146, -1.288]    100\n",
       "(-1.288, 0.0103]    400\n",
       "(0.0103, 1.229]     400\n",
       "(1.229, 3.131]      100\n",
       "dtype: int64"
      ]
     },
     "execution_count": 34,
     "metadata": {},
     "output_type": "execute_result"
    }
   ],
   "source": [
    "###也通过指定分位数（0到1之间的数值，包含端点）进行面元划分\n",
    "data = np.random.randn(1000)  # 正态分布\n",
    "cats = pd.qcut(data,[0,0.1,0.5,0.9,1])\n",
    "print(cats)\n",
    "pd.value_counts(cats,sort = False) ## 可以看到数据是10% 40% 40% 10%"
   ]
  },
  {
   "cell_type": "code",
   "execution_count": 35,
   "metadata": {},
   "outputs": [
    {
     "name": "stdout",
     "output_type": "stream",
     "text": [
      "0    (9.999, 10.2]\n",
      "1     (10.2, 11.0]\n",
      "2     (11.8, 12.0]\n",
      "Name: c2, dtype: category\n",
      "Categories (4, interval[float64]): [(9.999, 10.2] < (10.2, 11.0] < (11.0, 11.8] < (11.8, 12.0]]\n"
     ]
    },
    {
     "data": {
      "text/plain": [
       "(9.999, 10.2]    1\n",
       "(10.2, 11.0]     1\n",
       "(11.0, 11.8]     0\n",
       "(11.8, 12.0]     1\n",
       "Name: c2, dtype: int64"
      ]
     },
     "execution_count": 35,
     "metadata": {},
     "output_type": "execute_result"
    }
   ],
   "source": [
    "### cut与qcut的数据data是可以通过dataframe的某一个列获取到数据的\n",
    "data = df[\"c2\"]\n",
    "cats = pd.qcut(data,[0,0.1,0.5,0.9,1])\n",
    "print(cats)\n",
    "pd.value_counts(cats,sort = False) ## 可以看到数据是10% 40% 40% 10%"
   ]
  },
  {
   "cell_type": "code",
   "execution_count": null,
   "metadata": {},
   "outputs": [],
   "source": []
  }
 ],
 "metadata": {
  "kernelspec": {
   "display_name": "Python 2",
   "language": "python",
   "name": "python2"
  },
  "language_info": {
   "codemirror_mode": {
    "name": "ipython",
    "version": 2
   },
   "file_extension": ".py",
   "mimetype": "text/x-python",
   "name": "python",
   "nbconvert_exporter": "python",
   "pygments_lexer": "ipython2",
   "version": "2.7.15"
  }
 },
 "nbformat": 4,
 "nbformat_minor": 2
}
